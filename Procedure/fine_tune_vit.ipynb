{
 "cells": [
  {
   "cell_type": "code",
   "execution_count": null,
   "metadata": {},
   "outputs": [],
   "source": [
    "! pip install datasets transformers datasets"
   ]
  },
  {
   "cell_type": "code",
   "execution_count": 1,
   "metadata": {},
   "outputs": [
    {
     "name": "stderr",
     "output_type": "stream",
     "text": [
      "c:\\Users\\JAVIDH S\\AppData\\Local\\Programs\\Python\\Python39\\lib\\site-packages\\numpy\\_distributor_init.py:30: UserWarning: loaded more than 1 DLL from .libs:\n",
      "c:\\Users\\JAVIDH S\\AppData\\Local\\Programs\\Python\\Python39\\lib\\site-packages\\numpy\\.libs\\libopenblas.EL2C6PLE4ZYW3ECEVIV3OXXGRN2NRFM2.gfortran-win_amd64.dll\n",
      "c:\\Users\\JAVIDH S\\AppData\\Local\\Programs\\Python\\Python39\\lib\\site-packages\\numpy\\.libs\\libopenblas.GK7GX5KEQ4F6UYO3P26ULGBQYHGQO7J4.gfortran-win_amd64.dll\n",
      "  warnings.warn(\"loaded more than 1 DLL from .libs:\"\n",
      "c:\\Users\\JAVIDH S\\AppData\\Local\\Programs\\Python\\Python39\\lib\\site-packages\\tqdm\\auto.py:21: TqdmWarning: IProgress not found. Please update jupyter and ipywidgets. See https://ipywidgets.readthedocs.io/en/stable/user_install.html\n",
      "  from .autonotebook import tqdm as notebook_tqdm\n"
     ]
    }
   ],
   "source": [
    "from datasets import *\n",
    "import pickle as pk\n",
    "from PIL import Image\n",
    "import numpy as np\n"
   ]
  },
  {
   "cell_type": "code",
   "execution_count": 2,
   "metadata": {},
   "outputs": [
    {
     "data": {
      "text/plain": [
       "DatasetDict({\n",
       "    train: Dataset({\n",
       "        features: ['image_file_path', 'image', 'labels'],\n",
       "        num_rows: 2864\n",
       "    })\n",
       "    test: Dataset({\n",
       "        features: ['image_file_path', 'image', 'labels'],\n",
       "        num_rows: 352\n",
       "    })\n",
       "    validate: Dataset({\n",
       "        features: ['image_file_path', 'image', 'labels'],\n",
       "        num_rows: 352\n",
       "    })\n",
       "})"
      ]
     },
     "execution_count": 2,
     "metadata": {},
     "output_type": "execute_result"
    }
   ],
   "source": [
    "ds_file = open('dataset-3', 'rb')\n",
    "dataset = pk.load(ds_file)\n",
    "dataset"
   ]
  },
  {
   "cell_type": "code",
   "execution_count": 3,
   "metadata": {},
   "outputs": [
    {
     "data": {
      "text/plain": [
       "{'image_file_path': 'D:\\\\Dataset\\\\breast_cancer\\\\jpeg\\\\1.3.6.1.4.1.9590.100.1.2.228699627313487111012474405462022068297\\\\1-190.jpg',\n",
       " 'image': <PIL.PngImagePlugin.PngImageFile image mode=RGB size=298x298 at 0x1C3D8BD9280>,\n",
       " 'labels': 'BENIGN'}"
      ]
     },
     "execution_count": 3,
     "metadata": {},
     "output_type": "execute_result"
    }
   ],
   "source": [
    "dataset['train'][2]"
   ]
  },
  {
   "cell_type": "code",
   "execution_count": 4,
   "metadata": {},
   "outputs": [],
   "source": [
    "lmaps = {'BENIGN_WITHOUT_CALLBACK' : 0, 'MALIGNANT' : 1, 'BENIGN' : 2}\n"
   ]
  },
  {
   "cell_type": "code",
   "execution_count": 12,
   "metadata": {},
   "outputs": [
    {
     "name": "stderr",
     "output_type": "stream",
     "text": [
      "Map:  35%|███▍      | 994/2864 [00:00<00:00, 9010.67 examples/s]"
     ]
    },
    {
     "name": "stderr",
     "output_type": "stream",
     "text": [
      "                                                                 \r"
     ]
    }
   ],
   "source": [
    "def lconvervet(smp):\n",
    "    smp['labels'] = lmaps[smp['labels']]\n",
    "    return smp\n",
    "\n",
    "dataset = dataset.map(lconvervet)"
   ]
  },
  {
   "cell_type": "code",
   "execution_count": 13,
   "metadata": {},
   "outputs": [
    {
     "data": {
      "text/plain": [
       "array({'image_file_path': 'D:\\\\Dataset\\\\breast_cancer\\\\jpeg\\\\1.3.6.1.4.1.9590.100.1.2.44262460211112930513355519060642708846\\\\1-046.jpg', 'image': <PIL.PngImagePlugin.PngImageFile image mode=RGB size=292x292 at 0x1C387FF3790>, 'labels': 0},\n",
       "      dtype=object)"
      ]
     },
     "execution_count": 13,
     "metadata": {},
     "output_type": "execute_result"
    }
   ],
   "source": [
    "np.array(ds['test'][2])"
   ]
  },
  {
   "cell_type": "code",
   "execution_count": 14,
   "metadata": {},
   "outputs": [
    {
     "name": "stderr",
     "output_type": "stream",
     "text": [
      "c:\\Users\\JAVIDH S\\AppData\\Local\\Programs\\Python\\Python39\\lib\\site-packages\\transformers\\models\\vit\\feature_extraction_vit.py:28: FutureWarning: The class ViTFeatureExtractor is deprecated and will be removed in version 5 of Transformers. Please use ViTImageProcessor instead.\n",
      "  warnings.warn(\n"
     ]
    }
   ],
   "source": [
    "from transformers import ViTFeatureExtractor\n",
    "\n",
    "model_name_or_path = 'google/vit-base-patch16-224-in21k'\n",
    "feature_extractor = ViTFeatureExtractor.from_pretrained(model_name_or_path)"
   ]
  },
  {
   "cell_type": "code",
   "execution_count": 15,
   "metadata": {},
   "outputs": [
    {
     "data": {
      "text/plain": [
       "{'pixel_values': tensor([[[[-0.7725, -0.7804, -0.7882,  ...,  1.0000,  1.0000,  1.0000],\n",
       "          [-0.9451, -0.9529, -0.9529,  ...,  1.0000,  1.0000,  1.0000],\n",
       "          [-1.0000, -1.0000, -1.0000,  ...,  0.9765,  1.0000,  1.0000],\n",
       "          ...,\n",
       "          [-1.0000, -1.0000, -1.0000,  ..., -0.6471, -0.2863,  0.5765],\n",
       "          [-1.0000, -1.0000, -1.0000,  ..., -0.4588,  0.2863,  0.7882],\n",
       "          [-0.9294, -0.9373, -0.9451,  ...,  0.1765,  0.7333,  0.8510]],\n",
       "\n",
       "         [[-0.7725, -0.7804, -0.7882,  ...,  1.0000,  1.0000,  1.0000],\n",
       "          [-0.9451, -0.9529, -0.9529,  ...,  1.0000,  1.0000,  1.0000],\n",
       "          [-1.0000, -1.0000, -1.0000,  ...,  0.9765,  1.0000,  1.0000],\n",
       "          ...,\n",
       "          [-1.0000, -1.0000, -1.0000,  ..., -0.6471, -0.2863,  0.5765],\n",
       "          [-1.0000, -1.0000, -1.0000,  ..., -0.4588,  0.2863,  0.7882],\n",
       "          [-0.9294, -0.9373, -0.9451,  ...,  0.1765,  0.7333,  0.8510]],\n",
       "\n",
       "         [[-0.7725, -0.7804, -0.7882,  ...,  1.0000,  1.0000,  1.0000],\n",
       "          [-0.9451, -0.9529, -0.9529,  ...,  1.0000,  1.0000,  1.0000],\n",
       "          [-1.0000, -1.0000, -1.0000,  ...,  0.9765,  1.0000,  1.0000],\n",
       "          ...,\n",
       "          [-1.0000, -1.0000, -1.0000,  ..., -0.6471, -0.2863,  0.5765],\n",
       "          [-1.0000, -1.0000, -1.0000,  ..., -0.4588,  0.2863,  0.7882],\n",
       "          [-0.9294, -0.9373, -0.9451,  ...,  0.1765,  0.7333,  0.8510]]]])}"
      ]
     },
     "execution_count": 15,
     "metadata": {},
     "output_type": "execute_result"
    }
   ],
   "source": [
    "\n",
    "feature_extractor(dataset['test'][2]['image'], return_tensors='pt')"
   ]
  },
  {
   "cell_type": "code",
   "execution_count": 16,
   "metadata": {},
   "outputs": [],
   "source": [
    "def process_example(example):\n",
    "    inputs = feature_extractor(example['image'], return_tensors='pt')\n",
    "    inputs['labels'] = example['labels']\n",
    "    return inputs"
   ]
  },
  {
   "cell_type": "code",
   "execution_count": 17,
   "metadata": {},
   "outputs": [
    {
     "data": {
      "text/plain": [
       "{'pixel_values': tensor([[[[ 1.0000,  0.9373,  0.3804,  ..., -0.9686, -0.9059, -0.5529],\n",
       "          [ 0.9451,  0.4353, -0.4118,  ..., -0.9922, -0.9765, -0.9373],\n",
       "          [ 0.4118, -0.3961, -0.6706,  ..., -1.0000, -0.9843, -0.9686],\n",
       "          ...,\n",
       "          [ 0.0275, -0.6627, -0.7412,  ..., -1.0000, -1.0000, -1.0000],\n",
       "          [ 0.0431, -0.6627, -0.7412,  ..., -1.0000, -1.0000, -1.0000],\n",
       "          [ 0.0667, -0.6549, -0.7412,  ..., -1.0000, -1.0000, -1.0000]],\n",
       "\n",
       "         [[ 1.0000,  0.9373,  0.3804,  ..., -0.9686, -0.9059, -0.5529],\n",
       "          [ 0.9451,  0.4353, -0.4118,  ..., -0.9922, -0.9765, -0.9373],\n",
       "          [ 0.4118, -0.3961, -0.6706,  ..., -1.0000, -0.9843, -0.9686],\n",
       "          ...,\n",
       "          [ 0.0275, -0.6627, -0.7412,  ..., -1.0000, -1.0000, -1.0000],\n",
       "          [ 0.0431, -0.6627, -0.7412,  ..., -1.0000, -1.0000, -1.0000],\n",
       "          [ 0.0667, -0.6549, -0.7412,  ..., -1.0000, -1.0000, -1.0000]],\n",
       "\n",
       "         [[ 1.0000,  0.9373,  0.3804,  ..., -0.9686, -0.9059, -0.5529],\n",
       "          [ 0.9451,  0.4353, -0.4118,  ..., -0.9922, -0.9765, -0.9373],\n",
       "          [ 0.4118, -0.3961, -0.6706,  ..., -1.0000, -0.9843, -0.9686],\n",
       "          ...,\n",
       "          [ 0.0275, -0.6627, -0.7412,  ..., -1.0000, -1.0000, -1.0000],\n",
       "          [ 0.0431, -0.6627, -0.7412,  ..., -1.0000, -1.0000, -1.0000],\n",
       "          [ 0.0667, -0.6549, -0.7412,  ..., -1.0000, -1.0000, -1.0000]]]]), 'labels': 0}"
      ]
     },
     "execution_count": 17,
     "metadata": {},
     "output_type": "execute_result"
    }
   ],
   "source": [
    "process_example(dataset['test'][4])"
   ]
  },
  {
   "cell_type": "code",
   "execution_count": 18,
   "metadata": {},
   "outputs": [],
   "source": [
    "def transform(example_batch):\n",
    "    # Take a list of PIL images and turn them to pixel values\n",
    "    inputs = feature_extractor([x for x in example_batch['image']], return_tensors='pt')\n",
    "\n",
    "    # Don't forget to include the labels!\n",
    "    inputs['labels'] = example_batch['labels']\n",
    "    return inputs\n",
    "\n",
    "prepared_ds = dataset.with_transform(transform)"
   ]
  },
  {
   "cell_type": "code",
   "execution_count": 19,
   "metadata": {},
   "outputs": [],
   "source": [
    "prepared_ds = dataset.with_transform(transform)"
   ]
  },
  {
   "cell_type": "code",
   "execution_count": 20,
   "metadata": {},
   "outputs": [
    {
     "data": {
      "text/plain": [
       "{'pixel_values': tensor([[[[-1.0000, -1.0000, -1.0000,  ..., -0.9451, -0.7961, -0.6627],\n",
       "          [-1.0000, -1.0000, -1.0000,  ..., -0.9451, -0.7961, -0.6627],\n",
       "          [-1.0000, -1.0000, -1.0000,  ..., -0.9451, -0.7961, -0.6627],\n",
       "          ...,\n",
       "          [-1.0000, -1.0000, -1.0000,  ..., -0.6706, -0.2471,  0.4824],\n",
       "          [-1.0000, -1.0000, -1.0000,  ..., -0.2627,  0.4431,  0.8588],\n",
       "          [-1.0000, -1.0000, -1.0000,  ...,  0.5608,  0.8980,  0.9843]],\n",
       "\n",
       "         [[-1.0000, -1.0000, -1.0000,  ..., -0.9451, -0.7961, -0.6627],\n",
       "          [-1.0000, -1.0000, -1.0000,  ..., -0.9451, -0.7961, -0.6627],\n",
       "          [-1.0000, -1.0000, -1.0000,  ..., -0.9451, -0.7961, -0.6627],\n",
       "          ...,\n",
       "          [-1.0000, -1.0000, -1.0000,  ..., -0.6706, -0.2471,  0.4824],\n",
       "          [-1.0000, -1.0000, -1.0000,  ..., -0.2627,  0.4431,  0.8588],\n",
       "          [-1.0000, -1.0000, -1.0000,  ...,  0.5608,  0.8980,  0.9843]],\n",
       "\n",
       "         [[-1.0000, -1.0000, -1.0000,  ..., -0.9451, -0.7961, -0.6627],\n",
       "          [-1.0000, -1.0000, -1.0000,  ..., -0.9451, -0.7961, -0.6627],\n",
       "          [-1.0000, -1.0000, -1.0000,  ..., -0.9451, -0.7961, -0.6627],\n",
       "          ...,\n",
       "          [-1.0000, -1.0000, -1.0000,  ..., -0.6706, -0.2471,  0.4824],\n",
       "          [-1.0000, -1.0000, -1.0000,  ..., -0.2627,  0.4431,  0.8588],\n",
       "          [-1.0000, -1.0000, -1.0000,  ...,  0.5608,  0.8980,  0.9843]]],\n",
       "\n",
       "\n",
       "        [[[-0.8902, -0.9137, -0.9451,  ...,  0.9686,  0.9922,  1.0000],\n",
       "          [-1.0000, -1.0000, -1.0000,  ...,  0.8745,  0.9451,  0.9765],\n",
       "          [-1.0000, -1.0000, -1.0000,  ...,  0.6078,  0.7804,  0.9216],\n",
       "          ...,\n",
       "          [-1.0000, -1.0000, -1.0000,  ...,  0.1451,  0.6941,  0.9686],\n",
       "          [-0.9216, -0.9451, -0.9765,  ...,  0.9059,  1.0000,  1.0000],\n",
       "          [-0.5608, -0.6000, -0.6706,  ...,  1.0000,  1.0000,  1.0000]],\n",
       "\n",
       "         [[-0.8902, -0.9137, -0.9451,  ...,  0.9686,  0.9922,  1.0000],\n",
       "          [-1.0000, -1.0000, -1.0000,  ...,  0.8745,  0.9451,  0.9765],\n",
       "          [-1.0000, -1.0000, -1.0000,  ...,  0.6078,  0.7804,  0.9216],\n",
       "          ...,\n",
       "          [-1.0000, -1.0000, -1.0000,  ...,  0.1451,  0.6941,  0.9686],\n",
       "          [-0.9216, -0.9451, -0.9765,  ...,  0.9059,  1.0000,  1.0000],\n",
       "          [-0.5608, -0.6000, -0.6706,  ...,  1.0000,  1.0000,  1.0000]],\n",
       "\n",
       "         [[-0.8902, -0.9137, -0.9451,  ...,  0.9686,  0.9922,  1.0000],\n",
       "          [-1.0000, -1.0000, -1.0000,  ...,  0.8745,  0.9451,  0.9765],\n",
       "          [-1.0000, -1.0000, -1.0000,  ...,  0.6078,  0.7804,  0.9216],\n",
       "          ...,\n",
       "          [-1.0000, -1.0000, -1.0000,  ...,  0.1451,  0.6941,  0.9686],\n",
       "          [-0.9216, -0.9451, -0.9765,  ...,  0.9059,  1.0000,  1.0000],\n",
       "          [-0.5608, -0.6000, -0.6706,  ...,  1.0000,  1.0000,  1.0000]]]]), 'labels': [1, 1]}"
      ]
     },
     "execution_count": 20,
     "metadata": {},
     "output_type": "execute_result"
    }
   ],
   "source": [
    "prepared_ds['train'][0:2]"
   ]
  },
  {
   "cell_type": "code",
   "execution_count": 21,
   "metadata": {},
   "outputs": [],
   "source": [
    "import torch\n",
    "\n",
    "def collate_fn(batch):\n",
    "    return {\n",
    "        'pixel_values': torch.stack([x['pixel_values'] for x in batch]),\n",
    "        'labels': torch.tensor([x['labels'] for x in batch])\n",
    "    }"
   ]
  },
  {
   "cell_type": "code",
   "execution_count": 22,
   "metadata": {},
   "outputs": [
    {
     "name": "stderr",
     "output_type": "stream",
     "text": [
      "C:\\Users\\JAVIDH S\\AppData\\Local\\Temp\\ipykernel_9256\\2425197347.py:4: FutureWarning: load_metric is deprecated and will be removed in the next major version of datasets. Use 'evaluate.load' instead, from the new library 🤗 Evaluate: https://huggingface.co/docs/evaluate\n",
      "  metric = load_metric(\"accuracy\")\n"
     ]
    }
   ],
   "source": [
    "import numpy as np\n",
    "from datasets import load_metric\n",
    "\n",
    "metric = load_metric(\"accuracy\")\n",
    "def compute_metrics(p):\n",
    "    return metric.compute(predictions=np.argmax(p.predictions, axis=1), references=p.label_ids)"
   ]
  },
  {
   "cell_type": "code",
   "execution_count": 23,
   "metadata": {},
   "outputs": [
    {
     "name": "stderr",
     "output_type": "stream",
     "text": [
      "Some weights of the model checkpoint at google/vit-base-patch16-224-in21k were not used when initializing ViTForImageClassification: ['pooler.dense.weight', 'pooler.dense.bias']\n",
      "- This IS expected if you are initializing ViTForImageClassification from the checkpoint of a model trained on another task or with another architecture (e.g. initializing a BertForSequenceClassification model from a BertForPreTraining model).\n",
      "- This IS NOT expected if you are initializing ViTForImageClassification from the checkpoint of a model that you expect to be exactly identical (initializing a BertForSequenceClassification model from a BertForSequenceClassification model).\n",
      "Some weights of ViTForImageClassification were not initialized from the model checkpoint at google/vit-base-patch16-224-in21k and are newly initialized: ['classifier.bias', 'classifier.weight']\n",
      "You should probably TRAIN this model on a down-stream task to be able to use it for predictions and inference.\n"
     ]
    }
   ],
   "source": [
    "from transformers import ViTForImageClassification\n",
    "\n",
    "\n",
    "labels = ['BENIGN_WITHOUT_CALLBACK', 'MALIGNANT', 'BENIGN']\n",
    "\n",
    "model = ViTForImageClassification.from_pretrained(\n",
    "    model_name_or_path,\n",
    "    num_labels=len(labels),\n",
    "    id2label={str(i): c for i, c in enumerate(labels)},\n",
    "    label2id={c: str(i) for i, c in enumerate(labels)}\n",
    ")"
   ]
  },
  {
   "cell_type": "code",
   "execution_count": 26,
   "metadata": {},
   "outputs": [
    {
     "name": "stdout",
     "output_type": "stream",
     "text": [
      "^C\n"
     ]
    }
   ],
   "source": [
    "! pip install transformers[torch]"
   ]
  },
  {
   "cell_type": "code",
   "execution_count": 24,
   "metadata": {},
   "outputs": [],
   "source": [
    "from transformers import TrainingArguments\n",
    "\n",
    "training_args = TrainingArguments(\n",
    "  output_dir=\"./vit-base-beans-demo-v5\",\n",
    "  per_device_train_batch_size=16,\n",
    "  evaluation_strategy=\"steps\",\n",
    "  num_train_epochs=4,\n",
    "  fp16=False,\n",
    "  save_steps=100,\n",
    "  eval_steps=100,\n",
    "  logging_steps=10,\n",
    "  learning_rate=2e-4,\n",
    "  save_total_limit=2,\n",
    "  remove_unused_columns=False,\n",
    "  push_to_hub=False,\n",
    "  report_to='tensorboard',\n",
    "  load_best_model_at_end=True,\n",
    ")"
   ]
  },
  {
   "cell_type": "code",
   "execution_count": 27,
   "metadata": {},
   "outputs": [
    {
     "name": "stdout",
     "output_type": "stream",
     "text": [
      "Collecting tensorboardX\n",
      "  Downloading tensorboardX-2.6.2.2-py2.py3-none-any.whl (101 kB)\n",
      "     ---------------------------------------- 0.0/101.7 kB ? eta -:--:--\n",
      "     ---------------------------------------- 0.0/101.7 kB ? eta -:--:--\n",
      "     ---------------------------------------- 0.0/101.7 kB ? eta -:--:--\n",
      "     ---------------- ----------------------- 41.0/101.7 kB ? eta -:--:--\n",
      "     ----------------------- --------------- 61.4/101.7 kB 1.1 MB/s eta 0:00:01\n",
      "     ----------------------------- ------- 81.9/101.7 kB 651.6 kB/s eta 0:00:01\n",
      "     ----------------------------- ------- 81.9/101.7 kB 651.6 kB/s eta 0:00:01\n",
      "     ----------------------------- ------- 81.9/101.7 kB 651.6 kB/s eta 0:00:01\n",
      "     ----------------------------- ------- 81.9/101.7 kB 651.6 kB/s eta 0:00:01\n",
      "     ----------------------------- ------- 81.9/101.7 kB 651.6 kB/s eta 0:00:01\n",
      "     ----------------------------- ------- 81.9/101.7 kB 651.6 kB/s eta 0:00:01\n",
      "     ----------------------------- ------- 81.9/101.7 kB 651.6 kB/s eta 0:00:01\n",
      "     ----------------------------- ------- 81.9/101.7 kB 651.6 kB/s eta 0:00:01\n",
      "     ----------------------------- ------- 81.9/101.7 kB 651.6 kB/s eta 0:00:01\n",
      "     ----------------------------- ------- 81.9/101.7 kB 651.6 kB/s eta 0:00:01\n",
      "     --------------------------------- --- 92.2/101.7 kB 141.7 kB/s eta 0:00:01\n",
      "     ------------------------------------ 101.7/101.7 kB 154.0 kB/s eta 0:00:00\n",
      "Requirement already satisfied: numpy in c:\\users\\javidh s\\appdata\\local\\programs\\python\\python39\\lib\\site-packages (from tensorboardX) (1.22.4)\n",
      "Requirement already satisfied: packaging in c:\\users\\javidh s\\appdata\\local\\programs\\python\\python39\\lib\\site-packages (from tensorboardX) (21.3)\n",
      "Requirement already satisfied: protobuf>=3.20 in c:\\users\\javidh s\\appdata\\local\\programs\\python\\python39\\lib\\site-packages (from tensorboardX) (4.21.12)\n",
      "Requirement already satisfied: pyparsing!=3.0.5,>=2.0.2 in c:\\users\\javidh s\\appdata\\local\\programs\\python\\python39\\lib\\site-packages (from packaging->tensorboardX) (2.4.7)\n",
      "Installing collected packages: tensorboardX\n",
      "Successfully installed tensorboardX-2.6.2.2\n",
      "Note: you may need to restart the kernel to use updated packages.\n"
     ]
    },
    {
     "name": "stderr",
     "output_type": "stream",
     "text": [
      "\n",
      "[notice] A new release of pip is available: 23.0.1 -> 23.3.1\n",
      "[notice] To update, run: python.exe -m pip install --upgrade pip\n"
     ]
    }
   ],
   "source": [
    "pip install tensorboardX"
   ]
  },
  {
   "cell_type": "code",
   "execution_count": 25,
   "metadata": {},
   "outputs": [],
   "source": [
    "from transformers import Trainer\n",
    "\n",
    "trainer = Trainer(\n",
    "    model=model,\n",
    "    args=training_args,\n",
    "    data_collator=collate_fn,\n",
    "    compute_metrics=compute_metrics,\n",
    "    train_dataset=prepared_ds[\"train\"],\n",
    "    eval_dataset=prepared_ds[\"validate\"],\n",
    "    tokenizer=feature_extractor,\n",
    ")"
   ]
  },
  {
   "cell_type": "code",
   "execution_count": 26,
   "metadata": {},
   "outputs": [
    {
     "name": "stderr",
     "output_type": "stream",
     "text": [
      "c:\\Users\\JAVIDH S\\AppData\\Local\\Programs\\Python\\Python39\\lib\\site-packages\\transformers\\optimization.py:391: FutureWarning: This implementation of AdamW is deprecated and will be removed in a future version. Use the PyTorch implementation torch.optim.AdamW instead, or set `no_deprecation_warning=True` to disable this warning\n",
      "  warnings.warn(\n",
      "  0%|          | 0/716 [00:00<?, ?it/s]"
     ]
    },
    {
     "name": "stderr",
     "output_type": "stream",
     "text": [
      "  1%|          | 8/716 [04:59<7:12:24, 36.65s/it]"
     ]
    }
   ],
   "source": [
    "train_results = trainer.train()\n",
    "trainer.save_model()\n",
    "trainer.log_metrics(\"train\", train_results.metrics)\n",
    "trainer.save_metrics(\"train\", train_results.metrics)\n",
    "trainer.save_state()"
   ]
  },
  {
   "cell_type": "code",
   "execution_count": null,
   "metadata": {},
   "outputs": [],
   "source": []
  }
 ],
 "metadata": {
  "kernelspec": {
   "display_name": "Python 3",
   "language": "python",
   "name": "python3"
  },
  "language_info": {
   "codemirror_mode": {
    "name": "ipython",
    "version": 3
   },
   "file_extension": ".py",
   "mimetype": "text/x-python",
   "name": "python",
   "nbconvert_exporter": "python",
   "pygments_lexer": "ipython3",
   "version": "3.9.6"
  }
 },
 "nbformat": 4,
 "nbformat_minor": 2
}
