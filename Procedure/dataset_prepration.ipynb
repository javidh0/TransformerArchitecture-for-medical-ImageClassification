{
 "cells": [
  {
   "cell_type": "code",
   "execution_count": null,
   "metadata": {},
   "outputs": [],
   "source": [
    "! pip install datasets transformers\n"
   ]
  },
  {
   "cell_type": "code",
   "execution_count": 2,
   "metadata": {},
   "outputs": [
    {
     "name": "stderr",
     "output_type": "stream",
     "text": [
      "c:\\Users\\JAVIDH S\\AppData\\Local\\Programs\\Python\\Python39\\lib\\site-packages\\numpy\\_distributor_init.py:30: UserWarning: loaded more than 1 DLL from .libs:\n",
      "c:\\Users\\JAVIDH S\\AppData\\Local\\Programs\\Python\\Python39\\lib\\site-packages\\numpy\\.libs\\libopenblas.EL2C6PLE4ZYW3ECEVIV3OXXGRN2NRFM2.gfortran-win_amd64.dll\n",
      "c:\\Users\\JAVIDH S\\AppData\\Local\\Programs\\Python\\Python39\\lib\\site-packages\\numpy\\.libs\\libopenblas.GK7GX5KEQ4F6UYO3P26ULGBQYHGQO7J4.gfortran-win_amd64.dll\n",
      "  warnings.warn(\"loaded more than 1 DLL from .libs:\"\n",
      "c:\\Users\\JAVIDH S\\AppData\\Local\\Programs\\Python\\Python39\\lib\\site-packages\\tqdm\\auto.py:21: TqdmWarning: IProgress not found. Please update jupyter and ipywidgets. See https://ipywidgets.readthedocs.io/en/stable/user_install.html\n",
      "  from .autonotebook import tqdm as notebook_tqdm\n"
     ]
    }
   ],
   "source": [
    "from datasets import *\n",
    "import pandas as pd \n",
    "import numpy as np\n",
    "import os\n",
    "from PIL import Image \n",
    "\n",
    "dataset_root = \"D:\\Dataset\\\\breast_cancer\\\\\"\n",
    "\n",
    "# import json\n",
    "\n",
    "# file = open(\"/content/dataset_computerQA.json\")\n",
    "# dataset_json = json.load(file)['intents']\n",
    "\n",
    "# tokenized_dataset_dict_train = {'input_ids':[], \"labels\": []}\n",
    "# tokenized_dataset_dict_validate = {'input_ids':[], \"labels\": []}\n",
    "\n",
    "# for idx in range(120):\n",
    "#   tokenized_dataset_dict_train['input_ids'].append(my_tokenizer(dataset_json[idx]['patterns'][0]))\n",
    "#   tokenized_dataset_dict_train['labels'].append(my_tokenizer(dataset_json[idx]['responses']))\n",
    "\n",
    "# for idx in range(120, 172):\n",
    "#   tokenized_dataset_dict_validate['input_ids'].append(my_tokenizer(dataset_json[idx]['patterns'][0]))\n",
    "#   tokenized_dataset_dict_validate['labels'].append(my_tokenizer(dataset_json[idx]['responses']))\n",
    "\n",
    "# train = Dataset.from_dict(tokenized_dataset_dict_train)\n",
    "# validate = Dataset.from_dict(tokenized_dataset_dict_validate)\n",
    "\n",
    "# tokenized_dataset = DatasetDict({\"train\": train, \"validate\": validate})\n",
    "# tokenized_dataset\n"
   ]
  },
  {
   "cell_type": "markdown",
   "metadata": {},
   "source": [
    "EXPLORING DATASET"
   ]
  },
  {
   "cell_type": "code",
   "execution_count": 3,
   "metadata": {},
   "outputs": [],
   "source": [
    "df_train_calc = pd.read_csv(dataset_root+\"csv\\calc_case_description_train_set.csv\")\n",
    "df_test_calc = pd.read_csv(dataset_root+\"csv\\calc_case_description_test_set.csv\")\n",
    "\n",
    "df_train_mass = pd.read_csv(dataset_root+\"csv\\mass_case_description_train_set.csv\")\n",
    "df_test_mass = pd.read_csv(dataset_root+\"csv\\mass_case_description_test_set.csv\")\n"
   ]
  },
  {
   "cell_type": "code",
   "execution_count": 4,
   "metadata": {},
   "outputs": [
    {
     "name": "stdout",
     "output_type": "stream",
     "text": [
      "(1546, 14)\n",
      "(326, 14)\n",
      "(1318, 14)\n",
      "(378, 14)\n"
     ]
    }
   ],
   "source": [
    "print(df_train_calc.shape)\n",
    "print(df_test_calc.shape)\n",
    "\n",
    "print(df_train_mass.shape)\n",
    "print(df_test_mass.shape)\n"
   ]
  },
  {
   "cell_type": "code",
   "execution_count": 5,
   "metadata": {},
   "outputs": [
    {
     "data": {
      "text/html": [
       "<div>\n",
       "<style scoped>\n",
       "    .dataframe tbody tr th:only-of-type {\n",
       "        vertical-align: middle;\n",
       "    }\n",
       "\n",
       "    .dataframe tbody tr th {\n",
       "        vertical-align: top;\n",
       "    }\n",
       "\n",
       "    .dataframe thead th {\n",
       "        text-align: right;\n",
       "    }\n",
       "</style>\n",
       "<table border=\"1\" class=\"dataframe\">\n",
       "  <thead>\n",
       "    <tr style=\"text-align: right;\">\n",
       "      <th></th>\n",
       "      <th>patient_id</th>\n",
       "      <th>breast density</th>\n",
       "      <th>left or right breast</th>\n",
       "      <th>image view</th>\n",
       "      <th>abnormality id</th>\n",
       "      <th>abnormality type</th>\n",
       "      <th>calc type</th>\n",
       "      <th>calc distribution</th>\n",
       "      <th>assessment</th>\n",
       "      <th>pathology</th>\n",
       "      <th>subtlety</th>\n",
       "      <th>image file path</th>\n",
       "      <th>cropped image file path</th>\n",
       "      <th>ROI mask file path</th>\n",
       "    </tr>\n",
       "  </thead>\n",
       "  <tbody>\n",
       "    <tr>\n",
       "      <th>0</th>\n",
       "      <td>P_00038</td>\n",
       "      <td>2</td>\n",
       "      <td>LEFT</td>\n",
       "      <td>CC</td>\n",
       "      <td>1</td>\n",
       "      <td>calcification</td>\n",
       "      <td>PUNCTATE-PLEOMORPHIC</td>\n",
       "      <td>CLUSTERED</td>\n",
       "      <td>4</td>\n",
       "      <td>BENIGN</td>\n",
       "      <td>2</td>\n",
       "      <td>Calc-Test_P_00038_LEFT_CC/1.3.6.1.4.1.9590.100...</td>\n",
       "      <td>Calc-Test_P_00038_LEFT_CC_1/1.3.6.1.4.1.9590.1...</td>\n",
       "      <td>Calc-Test_P_00038_LEFT_CC_1/1.3.6.1.4.1.9590.1...</td>\n",
       "    </tr>\n",
       "    <tr>\n",
       "      <th>1</th>\n",
       "      <td>P_00038</td>\n",
       "      <td>2</td>\n",
       "      <td>LEFT</td>\n",
       "      <td>MLO</td>\n",
       "      <td>1</td>\n",
       "      <td>calcification</td>\n",
       "      <td>PUNCTATE-PLEOMORPHIC</td>\n",
       "      <td>CLUSTERED</td>\n",
       "      <td>4</td>\n",
       "      <td>BENIGN</td>\n",
       "      <td>2</td>\n",
       "      <td>Calc-Test_P_00038_LEFT_MLO/1.3.6.1.4.1.9590.10...</td>\n",
       "      <td>Calc-Test_P_00038_LEFT_MLO_1/1.3.6.1.4.1.9590....</td>\n",
       "      <td>Calc-Test_P_00038_LEFT_MLO_1/1.3.6.1.4.1.9590....</td>\n",
       "    </tr>\n",
       "    <tr>\n",
       "      <th>2</th>\n",
       "      <td>P_00038</td>\n",
       "      <td>2</td>\n",
       "      <td>RIGHT</td>\n",
       "      <td>CC</td>\n",
       "      <td>1</td>\n",
       "      <td>calcification</td>\n",
       "      <td>VASCULAR</td>\n",
       "      <td>NaN</td>\n",
       "      <td>2</td>\n",
       "      <td>BENIGN_WITHOUT_CALLBACK</td>\n",
       "      <td>5</td>\n",
       "      <td>Calc-Test_P_00038_RIGHT_CC/1.3.6.1.4.1.9590.10...</td>\n",
       "      <td>Calc-Test_P_00038_RIGHT_CC_1/1.3.6.1.4.1.9590....</td>\n",
       "      <td>Calc-Test_P_00038_RIGHT_CC_1/1.3.6.1.4.1.9590....</td>\n",
       "    </tr>\n",
       "    <tr>\n",
       "      <th>3</th>\n",
       "      <td>P_00038</td>\n",
       "      <td>2</td>\n",
       "      <td>RIGHT</td>\n",
       "      <td>CC</td>\n",
       "      <td>2</td>\n",
       "      <td>calcification</td>\n",
       "      <td>VASCULAR</td>\n",
       "      <td>NaN</td>\n",
       "      <td>2</td>\n",
       "      <td>BENIGN_WITHOUT_CALLBACK</td>\n",
       "      <td>5</td>\n",
       "      <td>Calc-Test_P_00038_RIGHT_CC/1.3.6.1.4.1.9590.10...</td>\n",
       "      <td>Calc-Test_P_00038_RIGHT_CC_2/1.3.6.1.4.1.9590....</td>\n",
       "      <td>Calc-Test_P_00038_RIGHT_CC_2/1.3.6.1.4.1.9590....</td>\n",
       "    </tr>\n",
       "    <tr>\n",
       "      <th>4</th>\n",
       "      <td>P_00038</td>\n",
       "      <td>2</td>\n",
       "      <td>RIGHT</td>\n",
       "      <td>MLO</td>\n",
       "      <td>1</td>\n",
       "      <td>calcification</td>\n",
       "      <td>VASCULAR</td>\n",
       "      <td>NaN</td>\n",
       "      <td>2</td>\n",
       "      <td>BENIGN_WITHOUT_CALLBACK</td>\n",
       "      <td>5</td>\n",
       "      <td>Calc-Test_P_00038_RIGHT_MLO/1.3.6.1.4.1.9590.1...</td>\n",
       "      <td>Calc-Test_P_00038_RIGHT_MLO_1/1.3.6.1.4.1.9590...</td>\n",
       "      <td>Calc-Test_P_00038_RIGHT_MLO_1/1.3.6.1.4.1.9590...</td>\n",
       "    </tr>\n",
       "  </tbody>\n",
       "</table>\n",
       "</div>"
      ],
      "text/plain": [
       "  patient_id  breast density left or right breast image view  abnormality id  \\\n",
       "0    P_00038               2                 LEFT         CC               1   \n",
       "1    P_00038               2                 LEFT        MLO               1   \n",
       "2    P_00038               2                RIGHT         CC               1   \n",
       "3    P_00038               2                RIGHT         CC               2   \n",
       "4    P_00038               2                RIGHT        MLO               1   \n",
       "\n",
       "  abnormality type             calc type calc distribution  assessment  \\\n",
       "0    calcification  PUNCTATE-PLEOMORPHIC         CLUSTERED           4   \n",
       "1    calcification  PUNCTATE-PLEOMORPHIC         CLUSTERED           4   \n",
       "2    calcification              VASCULAR               NaN           2   \n",
       "3    calcification              VASCULAR               NaN           2   \n",
       "4    calcification              VASCULAR               NaN           2   \n",
       "\n",
       "                 pathology  subtlety  \\\n",
       "0                   BENIGN         2   \n",
       "1                   BENIGN         2   \n",
       "2  BENIGN_WITHOUT_CALLBACK         5   \n",
       "3  BENIGN_WITHOUT_CALLBACK         5   \n",
       "4  BENIGN_WITHOUT_CALLBACK         5   \n",
       "\n",
       "                                     image file path  \\\n",
       "0  Calc-Test_P_00038_LEFT_CC/1.3.6.1.4.1.9590.100...   \n",
       "1  Calc-Test_P_00038_LEFT_MLO/1.3.6.1.4.1.9590.10...   \n",
       "2  Calc-Test_P_00038_RIGHT_CC/1.3.6.1.4.1.9590.10...   \n",
       "3  Calc-Test_P_00038_RIGHT_CC/1.3.6.1.4.1.9590.10...   \n",
       "4  Calc-Test_P_00038_RIGHT_MLO/1.3.6.1.4.1.9590.1...   \n",
       "\n",
       "                             cropped image file path  \\\n",
       "0  Calc-Test_P_00038_LEFT_CC_1/1.3.6.1.4.1.9590.1...   \n",
       "1  Calc-Test_P_00038_LEFT_MLO_1/1.3.6.1.4.1.9590....   \n",
       "2  Calc-Test_P_00038_RIGHT_CC_1/1.3.6.1.4.1.9590....   \n",
       "3  Calc-Test_P_00038_RIGHT_CC_2/1.3.6.1.4.1.9590....   \n",
       "4  Calc-Test_P_00038_RIGHT_MLO_1/1.3.6.1.4.1.9590...   \n",
       "\n",
       "                                  ROI mask file path  \n",
       "0  Calc-Test_P_00038_LEFT_CC_1/1.3.6.1.4.1.9590.1...  \n",
       "1  Calc-Test_P_00038_LEFT_MLO_1/1.3.6.1.4.1.9590....  \n",
       "2  Calc-Test_P_00038_RIGHT_CC_1/1.3.6.1.4.1.9590....  \n",
       "3  Calc-Test_P_00038_RIGHT_CC_2/1.3.6.1.4.1.9590....  \n",
       "4  Calc-Test_P_00038_RIGHT_MLO_1/1.3.6.1.4.1.9590...  "
      ]
     },
     "execution_count": 5,
     "metadata": {},
     "output_type": "execute_result"
    }
   ],
   "source": [
    "df_train_calc.head()\n",
    "df_test_calc.head()"
   ]
  },
  {
   "cell_type": "code",
   "execution_count": 6,
   "metadata": {},
   "outputs": [
    {
     "data": {
      "text/plain": [
       "'Calc-Training_P_00005_RIGHT_CC/1.3.6.1.4.1.9590.100.1.2.408909860712120272633130274602115723157/1.3.6.1.4.1.9590.100.1.2.47414316010368386519740343172775938548/000000.dcm'"
      ]
     },
     "execution_count": 6,
     "metadata": {},
     "output_type": "execute_result"
    }
   ],
   "source": [
    "df_train_calc['image file path'][0]"
   ]
  },
  {
   "cell_type": "code",
   "execution_count": 7,
   "metadata": {},
   "outputs": [
    {
     "data": {
      "text/plain": [
       "['1-188.jpg']"
      ]
     },
     "execution_count": 7,
     "metadata": {},
     "output_type": "execute_result"
    }
   ],
   "source": [
    "os.listdir(dataset_root +'jpeg\\\\'+ df_train_calc['image file path'][0].split('/')[2])"
   ]
  },
  {
   "cell_type": "code",
   "execution_count": 8,
   "metadata": {},
   "outputs": [],
   "source": [
    "# jpeg\\1.3.6.1.4.1.9590.100.1.2.126082211045731020508108042042916052\\1-240.jpg\n",
    "# Mass-Training_P_01265_RIGHT_MLO_1\n",
    "# Mass-Training_P_01265_RIGHT_CC/1.3.6.1.4.1.9590.100.1.2.367223375311116112418366281282634244284/1.3.6.1.4.1.9590.100.1.2.61363801911526324605964171543724492889/000000.dcm"
   ]
  },
  {
   "cell_type": "markdown",
   "metadata": {},
   "source": [
    "DATASET PREPARATION"
   ]
  },
  {
   "cell_type": "code",
   "execution_count": 9,
   "metadata": {},
   "outputs": [],
   "source": [
    "def get_image_loc(path) -> list:\n",
    "    img_list = []\n",
    "    for img in os.listdir(dataset_root +'jpeg\\\\'+ path.split('/')[2]):\n",
    "        img_list.append(dataset_root +'jpeg\\\\'+ path.split('/')[2]+'\\\\'+img)\n",
    "    return img_list"
   ]
  },
  {
   "cell_type": "code",
   "execution_count": 10,
   "metadata": {},
   "outputs": [
    {
     "name": "stdout",
     "output_type": "stream",
     "text": [
      "['D:\\\\Dataset\\\\breast_cancer\\\\jpeg\\\\1.3.6.1.4.1.9590.100.1.2.99456166312612236819044550452017912928\\\\1-282.jpg']\n"
     ]
    }
   ],
   "source": [
    "print(get_image_loc(df_train_calc['image file path'][120]))"
   ]
  },
  {
   "cell_type": "code",
   "execution_count": 11,
   "metadata": {},
   "outputs": [],
   "source": [
    "train_dataset_dict = {\n",
    "    'image_file_path' : [],\n",
    "    'image' : [],\n",
    "    'labels' : []\n",
    "}\n",
    "\n",
    "validate_dataset_dict = {\n",
    "    'image_file_path' : [],\n",
    "    'image' : [],\n",
    "    'labels' : []\n",
    "}\n",
    "\n",
    "test_dataset_dict = {\n",
    "    'image_file_path' : [],\n",
    "    'image' : [],\n",
    "    'labels' : []\n",
    "}"
   ]
  },
  {
   "cell_type": "code",
   "execution_count": 12,
   "metadata": {},
   "outputs": [
    {
     "ename": "MemoryError",
     "evalue": "",
     "output_type": "error",
     "traceback": [
      "\u001b[1;31m---------------------------------------------------------------------------\u001b[0m",
      "\u001b[1;31mMemoryError\u001b[0m                               Traceback (most recent call last)",
      "\u001b[1;32mc:\\Users\\JAVIDH S\\OneDrive\\Documents\\GitHub\\TransformerArchitecture-for-medical-ImageClassification\\Procedure\\dataset_prepration.ipynb Cell 14\u001b[0m line \u001b[0;36m4\n\u001b[0;32m      <a href='vscode-notebook-cell:/c%3A/Users/JAVIDH%20S/OneDrive/Documents/GitHub/TransformerArchitecture-for-medical-ImageClassification/Procedure/dataset_prepration.ipynb#X16sZmlsZQ%3D%3D?line=1'>2</a>\u001b[0m img_loc_list \u001b[39m=\u001b[39m get_image_loc(df_train_calc[\u001b[39m'\u001b[39m\u001b[39mimage file path\u001b[39m\u001b[39m'\u001b[39m][idx])\n\u001b[0;32m      <a href='vscode-notebook-cell:/c%3A/Users/JAVIDH%20S/OneDrive/Documents/GitHub/TransformerArchitecture-for-medical-ImageClassification/Procedure/dataset_prepration.ipynb#X16sZmlsZQ%3D%3D?line=2'>3</a>\u001b[0m \u001b[39mfor\u001b[39;00m img_loc \u001b[39min\u001b[39;00m img_loc_list:\n\u001b[1;32m----> <a href='vscode-notebook-cell:/c%3A/Users/JAVIDH%20S/OneDrive/Documents/GitHub/TransformerArchitecture-for-medical-ImageClassification/Procedure/dataset_prepration.ipynb#X16sZmlsZQ%3D%3D?line=3'>4</a>\u001b[0m     image_var \u001b[39m=\u001b[39m Image\u001b[39m.\u001b[39;49mopen(img_loc)\u001b[39m.\u001b[39;49mconvert(\u001b[39m'\u001b[39;49m\u001b[39mRGB\u001b[39;49m\u001b[39m'\u001b[39;49m)\n\u001b[0;32m      <a href='vscode-notebook-cell:/c%3A/Users/JAVIDH%20S/OneDrive/Documents/GitHub/TransformerArchitecture-for-medical-ImageClassification/Procedure/dataset_prepration.ipynb#X16sZmlsZQ%3D%3D?line=4'>5</a>\u001b[0m     train_dataset_dict[\u001b[39m'\u001b[39m\u001b[39mimage_file_path\u001b[39m\u001b[39m'\u001b[39m]\u001b[39m.\u001b[39mappend(img_loc)\n\u001b[0;32m      <a href='vscode-notebook-cell:/c%3A/Users/JAVIDH%20S/OneDrive/Documents/GitHub/TransformerArchitecture-for-medical-ImageClassification/Procedure/dataset_prepration.ipynb#X16sZmlsZQ%3D%3D?line=5'>6</a>\u001b[0m     train_dataset_dict[\u001b[39m'\u001b[39m\u001b[39mimage\u001b[39m\u001b[39m'\u001b[39m]\u001b[39m.\u001b[39mappend(image_var)\n",
      "File \u001b[1;32mc:\\Users\\JAVIDH S\\AppData\\Local\\Programs\\Python\\Python39\\lib\\site-packages\\PIL\\Image.py:1044\u001b[0m, in \u001b[0;36mImage.convert\u001b[1;34m(self, mode, matrix, dither, palette, colors)\u001b[0m\n\u001b[0;32m   1041\u001b[0m     dither \u001b[39m=\u001b[39m FLOYDSTEINBERG\n\u001b[0;32m   1043\u001b[0m \u001b[39mtry\u001b[39;00m:\n\u001b[1;32m-> 1044\u001b[0m     im \u001b[39m=\u001b[39m \u001b[39mself\u001b[39;49m\u001b[39m.\u001b[39;49mim\u001b[39m.\u001b[39;49mconvert(mode, dither)\n\u001b[0;32m   1045\u001b[0m \u001b[39mexcept\u001b[39;00m \u001b[39mValueError\u001b[39;00m:\n\u001b[0;32m   1046\u001b[0m     \u001b[39mtry\u001b[39;00m:\n\u001b[0;32m   1047\u001b[0m         \u001b[39m# normalize source image and try again\u001b[39;00m\n",
      "\u001b[1;31mMemoryError\u001b[0m: "
     ]
    }
   ],
   "source": [
    "for idx in range(df_train_calc.shape[0]):\n",
    "    img_loc_list = get_image_loc(df_train_calc['image file path'][idx])\n",
    "    for img_loc in img_loc_list:\n",
    "        image_var = Image.open(img_loc).convert('RGB')\n",
    "        train_dataset_dict['image_file_path'].append(img_loc)\n",
    "        train_dataset_dict['image'].append(image_var)\n",
    "        train_dataset_dict['labels'].append(df_train_calc['pathology'][idx])\n",
    "        del(image_var)"
   ]
  },
  {
   "cell_type": "code",
   "execution_count": null,
   "metadata": {},
   "outputs": [],
   "source": [
    "for idx in range(df_train_mass.shape[0]):\n",
    "    img_loc_list = get_image_loc(df_train_mass['image file path'][idx])\n",
    "    for img_loc in img_loc_list:\n",
    "        image_var = Image.open(img_loc).convert('RGB')\n",
    "        train_dataset_dict['image_file_path'].append(img_loc)\n",
    "        train_dataset_dict['image'].append(image_var)\n",
    "        train_dataset_dict['labels'].append(df_train_mass['pathology'][idx])\n",
    "        del(image_var)"
   ]
  },
  {
   "cell_type": "code",
   "execution_count": null,
   "metadata": {},
   "outputs": [],
   "source": [
    "Dataset.from_dict(train_dataset_dict)"
   ]
  },
  {
   "cell_type": "code",
   "execution_count": null,
   "metadata": {},
   "outputs": [],
   "source": [
    "for idx in range(df_test_calc.shape[0]):\n",
    "    img_loc_list = get_image_loc(df_train_calc['image file path'][idx])\n",
    "    for img_loc in img_loc_list:\n",
    "        image_var = Image.open(img_loc).convert('RGB')\n",
    "        if idx%2 == 0:\n",
    "            test_dataset_dict['image_file_path'].append(img_loc)\n",
    "            test_dataset_dict['image'].append(image_var)\n",
    "            test_dataset_dict['labels'].append(df_test_calc['pathology'][idx])\n",
    "        else:\n",
    "            validate_dataset_dict['image_file_path'].append(img_loc)\n",
    "            validate_dataset_dict['image'].append(Image.open(img_loc).convert('RGB'))\n",
    "            validate_dataset_dict['labels'].append(df_test_calc['pathology'][idx])\n",
    "        del(image_var)\n",
    "        \n",
    "for idx in range(df_test_mass.shape[0]):\n",
    "    img_loc_list = get_image_loc(df_train_calc['image file path'][idx])\n",
    "    for img_loc in img_loc_list:\n",
    "        image_var = Image.open(img_loc).convert('RGB')\n",
    "        if idx%2 == 0:\n",
    "            test_dataset_dict['image_file_path'].append(img_loc)\n",
    "            test_dataset_dict['image'].append(image_var)\n",
    "            test_dataset_dict['labels'].append(df_test_mass['pathology'][idx])\n",
    "        else:\n",
    "            validate_dataset_dict['image_file_path'].append(img_loc)\n",
    "            validate_dataset_dict['image'].append(Image.open(img_loc).convert('RGB'))\n",
    "            validate_dataset_dict['labels'].append(df_test_mass['pathology'][idx])\n",
    "        del(image_var)"
   ]
  },
  {
   "cell_type": "code",
   "execution_count": null,
   "metadata": {},
   "outputs": [],
   "source": [
    "Dataset.from_dict(test_dataset_dict)[41]"
   ]
  },
  {
   "cell_type": "code",
   "execution_count": null,
   "metadata": {},
   "outputs": [],
   "source": [
    "Dataset.from_dict(validate_dataset_dict)[41]"
   ]
  },
  {
   "cell_type": "code",
   "execution_count": null,
   "metadata": {},
   "outputs": [],
   "source": [
    "dataset = DatasetDict({\n",
    "    'train':Dataset.from_dict(train_dataset_dict),\n",
    "    'test':Dataset.from_dict(test_dataset_dict),\n",
    "    'validate':Dataset.from_dict(validate_dataset_dict)},\n",
    "    \n",
    ")"
   ]
  },
  {
   "cell_type": "code",
   "execution_count": null,
   "metadata": {},
   "outputs": [],
   "source": [
    "import pickle\n",
    "\n",
    "ds_file = open(\"dataset\", 'ab')\n",
    "\n",
    "pickle.dump(dataset, ds_file)\n",
    "ds_file.close()"
   ]
  },
  {
   "cell_type": "code",
   "execution_count": null,
   "metadata": {},
   "outputs": [],
   "source": []
  }
 ],
 "metadata": {
  "kernelspec": {
   "display_name": "Python 3",
   "language": "python",
   "name": "python3"
  },
  "language_info": {
   "codemirror_mode": {
    "name": "ipython",
    "version": 3
   },
   "file_extension": ".py",
   "mimetype": "text/x-python",
   "name": "python",
   "nbconvert_exporter": "python",
   "pygments_lexer": "ipython3",
   "version": "3.9.6"
  }
 },
 "nbformat": 4,
 "nbformat_minor": 2
}
