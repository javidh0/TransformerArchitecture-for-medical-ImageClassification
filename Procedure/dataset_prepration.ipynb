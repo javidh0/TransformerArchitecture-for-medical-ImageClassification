{
 "cells": [
  {
   "cell_type": "code",
   "execution_count": null,
   "metadata": {},
   "outputs": [],
   "source": [
    "! pip install datasets transformers\n"
   ]
  },
  {
   "cell_type": "code",
   "execution_count": 1,
   "metadata": {},
   "outputs": [
    {
     "name": "stderr",
     "output_type": "stream",
     "text": [
      "c:\\Users\\JAVIDH S\\AppData\\Local\\Programs\\Python\\Python39\\lib\\site-packages\\numpy\\_distributor_init.py:30: UserWarning: loaded more than 1 DLL from .libs:\n",
      "c:\\Users\\JAVIDH S\\AppData\\Local\\Programs\\Python\\Python39\\lib\\site-packages\\numpy\\.libs\\libopenblas.EL2C6PLE4ZYW3ECEVIV3OXXGRN2NRFM2.gfortran-win_amd64.dll\n",
      "c:\\Users\\JAVIDH S\\AppData\\Local\\Programs\\Python\\Python39\\lib\\site-packages\\numpy\\.libs\\libopenblas.GK7GX5KEQ4F6UYO3P26ULGBQYHGQO7J4.gfortran-win_amd64.dll\n",
      "  warnings.warn(\"loaded more than 1 DLL from .libs:\"\n",
      "c:\\Users\\JAVIDH S\\AppData\\Local\\Programs\\Python\\Python39\\lib\\site-packages\\tqdm\\auto.py:21: TqdmWarning: IProgress not found. Please update jupyter and ipywidgets. See https://ipywidgets.readthedocs.io/en/stable/user_install.html\n",
      "  from .autonotebook import tqdm as notebook_tqdm\n"
     ]
    }
   ],
   "source": [
    "from datasets import *\n",
    "import pandas as pd \n",
    "import numpy as np\n",
    "import os\n",
    "from PIL import Image \n",
    "\n",
    "dataset_root = \"D:\\Dataset\\\\breast_cancer\\\\\"\n",
    "\n",
    "# import json\n",
    "\n",
    "# file = open(\"/content/dataset_computerQA.json\")\n",
    "# dataset_json = json.load(file)['intents']\n",
    "\n",
    "# tokenized_dataset_dict_train = {'input_ids':[], \"labels\": []}\n",
    "# tokenized_dataset_dict_validate = {'input_ids':[], \"labels\": []}\n",
    "\n",
    "# for idx in range(120):\n",
    "#   tokenized_dataset_dict_train['input_ids'].append(my_tokenizer(dataset_json[idx]['patterns'][0]))\n",
    "#   tokenized_dataset_dict_train['labels'].append(my_tokenizer(dataset_json[idx]['responses']))\n",
    "\n",
    "# for idx in range(120, 172):\n",
    "#   tokenized_dataset_dict_validate['input_ids'].append(my_tokenizer(dataset_json[idx]['patterns'][0]))\n",
    "#   tokenized_dataset_dict_validate['labels'].append(my_tokenizer(dataset_json[idx]['responses']))\n",
    "\n",
    "# train = Dataset.from_dict(tokenized_dataset_dict_train)\n",
    "# validate = Dataset.from_dict(tokenized_dataset_dict_validate)\n",
    "\n",
    "# tokenized_dataset = DatasetDict({\"train\": train, \"validate\": validate})\n",
    "# tokenized_dataset\n"
   ]
  },
  {
   "cell_type": "markdown",
   "metadata": {},
   "source": [
    "EXPLORING DATASET"
   ]
  },
  {
   "cell_type": "code",
   "execution_count": 2,
   "metadata": {},
   "outputs": [],
   "source": [
    "df_train_calc = pd.read_csv(dataset_root+\"csv\\calc_case_description_train_set.csv\")\n",
    "df_test_calc = pd.read_csv(dataset_root+\"csv\\calc_case_description_test_set.csv\")\n",
    "\n",
    "df_train_mass = pd.read_csv(dataset_root+\"csv\\mass_case_description_train_set.csv\")\n",
    "df_test_mass = pd.read_csv(dataset_root+\"csv\\mass_case_description_test_set.csv\")\n"
   ]
  },
  {
   "cell_type": "code",
   "execution_count": 3,
   "metadata": {},
   "outputs": [
    {
     "name": "stdout",
     "output_type": "stream",
     "text": [
      "(1546, 14)\n",
      "(326, 14)\n",
      "(1318, 14)\n",
      "(378, 14)\n"
     ]
    }
   ],
   "source": [
    "print(df_train_calc.shape)\n",
    "print(df_test_calc.shape)\n",
    "\n",
    "print(df_train_mass.shape)\n",
    "print(df_test_mass.shape)\n"
   ]
  },
  {
   "cell_type": "code",
   "execution_count": 4,
   "metadata": {},
   "outputs": [
    {
     "data": {
      "text/html": [
       "<div>\n",
       "<style scoped>\n",
       "    .dataframe tbody tr th:only-of-type {\n",
       "        vertical-align: middle;\n",
       "    }\n",
       "\n",
       "    .dataframe tbody tr th {\n",
       "        vertical-align: top;\n",
       "    }\n",
       "\n",
       "    .dataframe thead th {\n",
       "        text-align: right;\n",
       "    }\n",
       "</style>\n",
       "<table border=\"1\" class=\"dataframe\">\n",
       "  <thead>\n",
       "    <tr style=\"text-align: right;\">\n",
       "      <th></th>\n",
       "      <th>patient_id</th>\n",
       "      <th>breast density</th>\n",
       "      <th>left or right breast</th>\n",
       "      <th>image view</th>\n",
       "      <th>abnormality id</th>\n",
       "      <th>abnormality type</th>\n",
       "      <th>calc type</th>\n",
       "      <th>calc distribution</th>\n",
       "      <th>assessment</th>\n",
       "      <th>pathology</th>\n",
       "      <th>subtlety</th>\n",
       "      <th>image file path</th>\n",
       "      <th>cropped image file path</th>\n",
       "      <th>ROI mask file path</th>\n",
       "    </tr>\n",
       "  </thead>\n",
       "  <tbody>\n",
       "    <tr>\n",
       "      <th>0</th>\n",
       "      <td>P_00038</td>\n",
       "      <td>2</td>\n",
       "      <td>LEFT</td>\n",
       "      <td>CC</td>\n",
       "      <td>1</td>\n",
       "      <td>calcification</td>\n",
       "      <td>PUNCTATE-PLEOMORPHIC</td>\n",
       "      <td>CLUSTERED</td>\n",
       "      <td>4</td>\n",
       "      <td>BENIGN</td>\n",
       "      <td>2</td>\n",
       "      <td>Calc-Test_P_00038_LEFT_CC/1.3.6.1.4.1.9590.100...</td>\n",
       "      <td>Calc-Test_P_00038_LEFT_CC_1/1.3.6.1.4.1.9590.1...</td>\n",
       "      <td>Calc-Test_P_00038_LEFT_CC_1/1.3.6.1.4.1.9590.1...</td>\n",
       "    </tr>\n",
       "    <tr>\n",
       "      <th>1</th>\n",
       "      <td>P_00038</td>\n",
       "      <td>2</td>\n",
       "      <td>LEFT</td>\n",
       "      <td>MLO</td>\n",
       "      <td>1</td>\n",
       "      <td>calcification</td>\n",
       "      <td>PUNCTATE-PLEOMORPHIC</td>\n",
       "      <td>CLUSTERED</td>\n",
       "      <td>4</td>\n",
       "      <td>BENIGN</td>\n",
       "      <td>2</td>\n",
       "      <td>Calc-Test_P_00038_LEFT_MLO/1.3.6.1.4.1.9590.10...</td>\n",
       "      <td>Calc-Test_P_00038_LEFT_MLO_1/1.3.6.1.4.1.9590....</td>\n",
       "      <td>Calc-Test_P_00038_LEFT_MLO_1/1.3.6.1.4.1.9590....</td>\n",
       "    </tr>\n",
       "    <tr>\n",
       "      <th>2</th>\n",
       "      <td>P_00038</td>\n",
       "      <td>2</td>\n",
       "      <td>RIGHT</td>\n",
       "      <td>CC</td>\n",
       "      <td>1</td>\n",
       "      <td>calcification</td>\n",
       "      <td>VASCULAR</td>\n",
       "      <td>NaN</td>\n",
       "      <td>2</td>\n",
       "      <td>BENIGN_WITHOUT_CALLBACK</td>\n",
       "      <td>5</td>\n",
       "      <td>Calc-Test_P_00038_RIGHT_CC/1.3.6.1.4.1.9590.10...</td>\n",
       "      <td>Calc-Test_P_00038_RIGHT_CC_1/1.3.6.1.4.1.9590....</td>\n",
       "      <td>Calc-Test_P_00038_RIGHT_CC_1/1.3.6.1.4.1.9590....</td>\n",
       "    </tr>\n",
       "    <tr>\n",
       "      <th>3</th>\n",
       "      <td>P_00038</td>\n",
       "      <td>2</td>\n",
       "      <td>RIGHT</td>\n",
       "      <td>CC</td>\n",
       "      <td>2</td>\n",
       "      <td>calcification</td>\n",
       "      <td>VASCULAR</td>\n",
       "      <td>NaN</td>\n",
       "      <td>2</td>\n",
       "      <td>BENIGN_WITHOUT_CALLBACK</td>\n",
       "      <td>5</td>\n",
       "      <td>Calc-Test_P_00038_RIGHT_CC/1.3.6.1.4.1.9590.10...</td>\n",
       "      <td>Calc-Test_P_00038_RIGHT_CC_2/1.3.6.1.4.1.9590....</td>\n",
       "      <td>Calc-Test_P_00038_RIGHT_CC_2/1.3.6.1.4.1.9590....</td>\n",
       "    </tr>\n",
       "    <tr>\n",
       "      <th>4</th>\n",
       "      <td>P_00038</td>\n",
       "      <td>2</td>\n",
       "      <td>RIGHT</td>\n",
       "      <td>MLO</td>\n",
       "      <td>1</td>\n",
       "      <td>calcification</td>\n",
       "      <td>VASCULAR</td>\n",
       "      <td>NaN</td>\n",
       "      <td>2</td>\n",
       "      <td>BENIGN_WITHOUT_CALLBACK</td>\n",
       "      <td>5</td>\n",
       "      <td>Calc-Test_P_00038_RIGHT_MLO/1.3.6.1.4.1.9590.1...</td>\n",
       "      <td>Calc-Test_P_00038_RIGHT_MLO_1/1.3.6.1.4.1.9590...</td>\n",
       "      <td>Calc-Test_P_00038_RIGHT_MLO_1/1.3.6.1.4.1.9590...</td>\n",
       "    </tr>\n",
       "  </tbody>\n",
       "</table>\n",
       "</div>"
      ],
      "text/plain": [
       "  patient_id  breast density left or right breast image view  abnormality id  \\\n",
       "0    P_00038               2                 LEFT         CC               1   \n",
       "1    P_00038               2                 LEFT        MLO               1   \n",
       "2    P_00038               2                RIGHT         CC               1   \n",
       "3    P_00038               2                RIGHT         CC               2   \n",
       "4    P_00038               2                RIGHT        MLO               1   \n",
       "\n",
       "  abnormality type             calc type calc distribution  assessment  \\\n",
       "0    calcification  PUNCTATE-PLEOMORPHIC         CLUSTERED           4   \n",
       "1    calcification  PUNCTATE-PLEOMORPHIC         CLUSTERED           4   \n",
       "2    calcification              VASCULAR               NaN           2   \n",
       "3    calcification              VASCULAR               NaN           2   \n",
       "4    calcification              VASCULAR               NaN           2   \n",
       "\n",
       "                 pathology  subtlety  \\\n",
       "0                   BENIGN         2   \n",
       "1                   BENIGN         2   \n",
       "2  BENIGN_WITHOUT_CALLBACK         5   \n",
       "3  BENIGN_WITHOUT_CALLBACK         5   \n",
       "4  BENIGN_WITHOUT_CALLBACK         5   \n",
       "\n",
       "                                     image file path  \\\n",
       "0  Calc-Test_P_00038_LEFT_CC/1.3.6.1.4.1.9590.100...   \n",
       "1  Calc-Test_P_00038_LEFT_MLO/1.3.6.1.4.1.9590.10...   \n",
       "2  Calc-Test_P_00038_RIGHT_CC/1.3.6.1.4.1.9590.10...   \n",
       "3  Calc-Test_P_00038_RIGHT_CC/1.3.6.1.4.1.9590.10...   \n",
       "4  Calc-Test_P_00038_RIGHT_MLO/1.3.6.1.4.1.9590.1...   \n",
       "\n",
       "                             cropped image file path  \\\n",
       "0  Calc-Test_P_00038_LEFT_CC_1/1.3.6.1.4.1.9590.1...   \n",
       "1  Calc-Test_P_00038_LEFT_MLO_1/1.3.6.1.4.1.9590....   \n",
       "2  Calc-Test_P_00038_RIGHT_CC_1/1.3.6.1.4.1.9590....   \n",
       "3  Calc-Test_P_00038_RIGHT_CC_2/1.3.6.1.4.1.9590....   \n",
       "4  Calc-Test_P_00038_RIGHT_MLO_1/1.3.6.1.4.1.9590...   \n",
       "\n",
       "                                  ROI mask file path  \n",
       "0  Calc-Test_P_00038_LEFT_CC_1/1.3.6.1.4.1.9590.1...  \n",
       "1  Calc-Test_P_00038_LEFT_MLO_1/1.3.6.1.4.1.9590....  \n",
       "2  Calc-Test_P_00038_RIGHT_CC_1/1.3.6.1.4.1.9590....  \n",
       "3  Calc-Test_P_00038_RIGHT_CC_2/1.3.6.1.4.1.9590....  \n",
       "4  Calc-Test_P_00038_RIGHT_MLO_1/1.3.6.1.4.1.9590...  "
      ]
     },
     "execution_count": 4,
     "metadata": {},
     "output_type": "execute_result"
    }
   ],
   "source": [
    "df_train_calc.head()\n",
    "df_test_calc.head()"
   ]
  },
  {
   "cell_type": "code",
   "execution_count": 5,
   "metadata": {},
   "outputs": [
    {
     "data": {
      "text/plain": [
       "'Calc-Training_P_00005_RIGHT_CC/1.3.6.1.4.1.9590.100.1.2.408909860712120272633130274602115723157/1.3.6.1.4.1.9590.100.1.2.47414316010368386519740343172775938548/000000.dcm'"
      ]
     },
     "execution_count": 5,
     "metadata": {},
     "output_type": "execute_result"
    }
   ],
   "source": [
    "df_train_calc['image file path'][0]"
   ]
  },
  {
   "cell_type": "code",
   "execution_count": 6,
   "metadata": {},
   "outputs": [
    {
     "data": {
      "text/plain": [
       "['1-188.jpg']"
      ]
     },
     "execution_count": 6,
     "metadata": {},
     "output_type": "execute_result"
    }
   ],
   "source": [
    "os.listdir(dataset_root +'jpeg\\\\'+ df_train_calc['image file path'][0].split('/')[2])"
   ]
  },
  {
   "cell_type": "code",
   "execution_count": 7,
   "metadata": {},
   "outputs": [],
   "source": [
    "# jpeg\\1.3.6.1.4.1.9590.100.1.2.126082211045731020508108042042916052\\1-240.jpg\n",
    "# Mass-Training_P_01265_RIGHT_MLO_1\n",
    "# Mass-Training_P_01265_RIGHT_CC/1.3.6.1.4.1.9590.100.1.2.367223375311116112418366281282634244284/1.3.6.1.4.1.9590.100.1.2.61363801911526324605964171543724492889/000000.dcm"
   ]
  },
  {
   "cell_type": "markdown",
   "metadata": {},
   "source": [
    "DATASET PREPARATION"
   ]
  },
  {
   "cell_type": "code",
   "execution_count": 8,
   "metadata": {},
   "outputs": [],
   "source": [
    "def get_image_loc(path) -> list:\n",
    "    img_list = []\n",
    "    for img in os.listdir(dataset_root +'jpeg\\\\'+ path.split('/')[2]):\n",
    "        img_list.append(dataset_root +'jpeg\\\\'+ path.split('/')[2]+'\\\\'+img)\n",
    "    return img_list"
   ]
  },
  {
   "cell_type": "code",
   "execution_count": 9,
   "metadata": {},
   "outputs": [
    {
     "name": "stdout",
     "output_type": "stream",
     "text": [
      "['D:\\\\Dataset\\\\breast_cancer\\\\jpeg\\\\1.3.6.1.4.1.9590.100.1.2.99456166312612236819044550452017912928\\\\1-282.jpg']\n"
     ]
    }
   ],
   "source": [
    "print(get_image_loc(df_train_calc['image file path'][120]))"
   ]
  },
  {
   "cell_type": "code",
   "execution_count": 10,
   "metadata": {},
   "outputs": [
    {
     "data": {
      "image/png": "[encoded data removed]",
      "text/plain": [
       "<PIL.Image.Image image mode=L size=246x246 at 0x20F9ACD70A0>"
      ]
     },
     "execution_count": 10,
     "metadata": {},
     "output_type": "execute_result"
    }
   ],
   "source": [
    "o_img = Image.open(get_image_loc(df_train_calc['image file path'][500])[0])\n",
    "\n",
    "o_img.resize((int(o_img.size[0] - o_img.size[0]*0.9), int(o_img.size[0] - o_img.size[0]*0.9)))"
   ]
  },
  {
   "cell_type": "code",
   "execution_count": 11,
   "metadata": {},
   "outputs": [],
   "source": [
    "train_dataset_dict = {\n",
    "    'image_file_path' : [],\n",
    "    'image' : [],\n",
    "    'labels' : []\n",
    "}\n",
    "\n",
    "validate_dataset_dict = {\n",
    "    'image_file_path' : [],\n",
    "    'image' : [],\n",
    "    'labels' : []\n",
    "}\n",
    "\n",
    "test_dataset_dict = {\n",
    "    'image_file_path' : [],\n",
    "    'image' : [],\n",
    "    'labels' : []\n",
    "}"
   ]
  },
  {
   "cell_type": "code",
   "execution_count": 13,
   "metadata": {},
   "outputs": [],
   "source": [
    "for idx in range(df_train_calc.shape[0]):\n",
    "    img_loc_list = get_image_loc(df_train_calc['image file path'][idx])\n",
    "    for img_loc in img_loc_list:\n",
    "        image_var = Image.open(img_loc)\n",
    "        image_var = image_var.resize((int(image_var.size[0] - image_var.size[0]*0.9), int(image_var.size[0] - image_var.size[0]*0.9)))\n",
    "        image_var = image_var.convert('RGB')\n",
    "        train_dataset_dict['image_file_path'].append(img_loc)\n",
    "        train_dataset_dict['image'].append(image_var)\n",
    "        train_dataset_dict['labels'].append(df_train_calc['pathology'][idx])\n",
    "        del(image_var)"
   ]
  },
  {
   "cell_type": "code",
   "execution_count": null,
   "metadata": {},
   "outputs": [],
   "source": []
  },
  {
   "cell_type": "code",
   "execution_count": 14,
   "metadata": {},
   "outputs": [],
   "source": [
    "for idx in range(df_train_mass.shape[0]):\n",
    "    img_loc_list = get_image_loc(df_train_mass['image file path'][idx])\n",
    "    for img_loc in img_loc_list:\n",
    "        image_var = Image.open(img_loc)\n",
    "        image_var = image_var.resize((int(image_var.size[0] - image_var.size[0]*0.9), int(image_var.size[0] - image_var.size[0]*0.9)))\n",
    "        image_var = image_var.convert('RGB')\n",
    "        train_dataset_dict['image_file_path'].append(img_loc)\n",
    "        train_dataset_dict['image'].append(image_var)\n",
    "        train_dataset_dict['labels'].append(df_train_mass['pathology'][idx])\n",
    "        del(image_var)"
   ]
  },
  {
   "cell_type": "code",
   "execution_count": 15,
   "metadata": {},
   "outputs": [
    {
     "ename": "KeyboardInterrupt",
     "evalue": "",
     "output_type": "error",
     "traceback": [
      "\u001b[1;31m---------------------------------------------------------------------------\u001b[0m",
      "\u001b[1;31mAttributeError\u001b[0m                            Traceback (most recent call last)",
      "File \u001b[1;32mc:\\Users\\JAVIDH S\\AppData\\Local\\Programs\\Python\\Python39\\lib\\site-packages\\PIL\\ImageFile.py:504\u001b[0m, in \u001b[0;36m_save\u001b[1;34m(im, fp, tile, bufsize)\u001b[0m\n\u001b[0;32m    503\u001b[0m \u001b[39mtry\u001b[39;00m:\n\u001b[1;32m--> 504\u001b[0m     fh \u001b[39m=\u001b[39m fp\u001b[39m.\u001b[39;49mfileno()\n\u001b[0;32m    505\u001b[0m     fp\u001b[39m.\u001b[39mflush()\n",
      "\u001b[1;31mAttributeError\u001b[0m: '_idat' object has no attribute 'fileno'",
      "\nDuring handling of the above exception, another exception occurred:\n",
      "\u001b[1;31mKeyboardInterrupt\u001b[0m                         Traceback (most recent call last)",
      "\u001b[1;32mc:\\Users\\JAVIDH S\\OneDrive\\Documents\\GitHub\\TransformerArchitecture-for-medical-ImageClassification\\Procedure\\dataset_prepration.ipynb Cell 18\u001b[0m line \u001b[0;36m1\n\u001b[1;32m----> <a href='vscode-notebook-cell:/c%3A/Users/JAVIDH%20S/OneDrive/Documents/GitHub/TransformerArchitecture-for-medical-ImageClassification/Procedure/dataset_prepration.ipynb#X23sZmlsZQ%3D%3D?line=0'>1</a>\u001b[0m Dataset\u001b[39m.\u001b[39;49mfrom_dict(train_dataset_dict)\n",
      "File \u001b[1;32mc:\\Users\\JAVIDH S\\AppData\\Local\\Programs\\Python\\Python39\\lib\\site-packages\\datasets\\arrow_dataset.py:869\u001b[0m, in \u001b[0;36mDataset.from_dict\u001b[1;34m(cls, mapping, features, info, split)\u001b[0m\n\u001b[0;32m    864\u001b[0m     mapping \u001b[39m=\u001b[39m features\u001b[39m.\u001b[39mencode_batch(mapping)\n\u001b[0;32m    865\u001b[0m mapping \u001b[39m=\u001b[39m {\n\u001b[0;32m    866\u001b[0m     col: OptimizedTypedSequence(data, \u001b[39mtype\u001b[39m\u001b[39m=\u001b[39mfeatures[col] \u001b[39mif\u001b[39;00m features \u001b[39mis\u001b[39;00m \u001b[39mnot\u001b[39;00m \u001b[39mNone\u001b[39;00m \u001b[39melse\u001b[39;00m \u001b[39mNone\u001b[39;00m, col\u001b[39m=\u001b[39mcol)\n\u001b[0;32m    867\u001b[0m     \u001b[39mfor\u001b[39;00m col, data \u001b[39min\u001b[39;00m mapping\u001b[39m.\u001b[39mitems()\n\u001b[0;32m    868\u001b[0m }\n\u001b[1;32m--> 869\u001b[0m pa_table \u001b[39m=\u001b[39m InMemoryTable\u001b[39m.\u001b[39;49mfrom_pydict(mapping\u001b[39m=\u001b[39;49mmapping)\n\u001b[0;32m    870\u001b[0m \u001b[39mif\u001b[39;00m info\u001b[39m.\u001b[39mfeatures \u001b[39mis\u001b[39;00m \u001b[39mNone\u001b[39;00m:\n\u001b[0;32m    871\u001b[0m     info\u001b[39m.\u001b[39mfeatures \u001b[39m=\u001b[39m Features({col: ts\u001b[39m.\u001b[39mget_inferred_type() \u001b[39mfor\u001b[39;00m col, ts \u001b[39min\u001b[39;00m mapping\u001b[39m.\u001b[39mitems()})\n",
      "File \u001b[1;32mc:\\Users\\JAVIDH S\\AppData\\Local\\Programs\\Python\\Python39\\lib\\site-packages\\datasets\\table.py:801\u001b[0m, in \u001b[0;36mInMemoryTable.from_pydict\u001b[1;34m(cls, *args, **kwargs)\u001b[0m\n\u001b[0;32m    785\u001b[0m \u001b[39m@classmethod\u001b[39m\n\u001b[0;32m    786\u001b[0m \u001b[39mdef\u001b[39;00m \u001b[39mfrom_pydict\u001b[39m(\u001b[39mcls\u001b[39m, \u001b[39m*\u001b[39margs, \u001b[39m*\u001b[39m\u001b[39m*\u001b[39mkwargs):\n\u001b[0;32m    787\u001b[0m \u001b[39m    \u001b[39m\u001b[39m\"\"\"\u001b[39;00m\n\u001b[0;32m    788\u001b[0m \u001b[39m    Construct a Table from Arrow arrays or columns.\u001b[39;00m\n\u001b[0;32m    789\u001b[0m \n\u001b[1;32m   (...)\u001b[0m\n\u001b[0;32m    799\u001b[0m \u001b[39m        `datasets.table.Table`\u001b[39;00m\n\u001b[0;32m    800\u001b[0m \u001b[39m    \"\"\"\u001b[39;00m\n\u001b[1;32m--> 801\u001b[0m     \u001b[39mreturn\u001b[39;00m \u001b[39mcls\u001b[39m(pa\u001b[39m.\u001b[39mTable\u001b[39m.\u001b[39mfrom_pydict(\u001b[39m*\u001b[39margs, \u001b[39m*\u001b[39m\u001b[39m*\u001b[39mkwargs))\n",
      "File \u001b[1;32mc:\\Users\\JAVIDH S\\AppData\\Local\\Programs\\Python\\Python39\\lib\\site-packages\\pyarrow\\table.pxi:3725\u001b[0m, in \u001b[0;36mpyarrow.lib.Table.from_pydict\u001b[1;34m()\u001b[0m\n",
      "File \u001b[1;32mc:\\Users\\JAVIDH S\\AppData\\Local\\Programs\\Python\\Python39\\lib\\site-packages\\pyarrow\\table.pxi:5254\u001b[0m, in \u001b[0;36mpyarrow.lib._from_pydict\u001b[1;34m()\u001b[0m\n",
      "File \u001b[1;32mc:\\Users\\JAVIDH S\\AppData\\Local\\Programs\\Python\\Python39\\lib\\site-packages\\pyarrow\\array.pxi:350\u001b[0m, in \u001b[0;36mpyarrow.lib.asarray\u001b[1;34m()\u001b[0m\n",
      "File \u001b[1;32mc:\\Users\\JAVIDH S\\AppData\\Local\\Programs\\Python\\Python39\\lib\\site-packages\\pyarrow\\array.pxi:236\u001b[0m, in \u001b[0;36mpyarrow.lib.array\u001b[1;34m()\u001b[0m\n",
      "File \u001b[1;32mc:\\Users\\JAVIDH S\\AppData\\Local\\Programs\\Python\\Python39\\lib\\site-packages\\pyarrow\\array.pxi:110\u001b[0m, in \u001b[0;36mpyarrow.lib._handle_arrow_array_protocol\u001b[1;34m()\u001b[0m\n",
      "File \u001b[1;32mc:\\Users\\JAVIDH S\\AppData\\Local\\Programs\\Python\\Python39\\lib\\site-packages\\datasets\\arrow_writer.py:166\u001b[0m, in \u001b[0;36mTypedSequence.__arrow_array__\u001b[1;34m(***failed resolving arguments***)\u001b[0m\n\u001b[0;32m    164\u001b[0m \u001b[39m# automatic type inference for custom objects\u001b[39;00m\n\u001b[0;32m    165\u001b[0m \u001b[39mif\u001b[39;00m \u001b[39mself\u001b[39m\u001b[39m.\u001b[39mtype \u001b[39mis\u001b[39;00m \u001b[39mNone\u001b[39;00m \u001b[39mand\u001b[39;00m \u001b[39mself\u001b[39m\u001b[39m.\u001b[39mtry_type \u001b[39mis\u001b[39;00m \u001b[39mNone\u001b[39;00m:\n\u001b[1;32m--> 166\u001b[0m     data, \u001b[39mself\u001b[39m\u001b[39m.\u001b[39m_inferred_type \u001b[39m=\u001b[39m \u001b[39mself\u001b[39;49m\u001b[39m.\u001b[39;49m_infer_custom_type_and_encode(data)\n\u001b[0;32m    167\u001b[0m \u001b[39mif\u001b[39;00m \u001b[39mself\u001b[39m\u001b[39m.\u001b[39m_inferred_type \u001b[39mis\u001b[39;00m \u001b[39mNone\u001b[39;00m:\n\u001b[0;32m    168\u001b[0m     \u001b[39mtype\u001b[39m \u001b[39m=\u001b[39m \u001b[39mself\u001b[39m\u001b[39m.\u001b[39mtry_type \u001b[39mif\u001b[39;00m \u001b[39mself\u001b[39m\u001b[39m.\u001b[39mtrying_type \u001b[39melse\u001b[39;00m \u001b[39mself\u001b[39m\u001b[39m.\u001b[39mtype\n",
      "File \u001b[1;32mc:\\Users\\JAVIDH S\\AppData\\Local\\Programs\\Python\\Python39\\lib\\site-packages\\datasets\\arrow_writer.py:154\u001b[0m, in \u001b[0;36mTypedSequence._infer_custom_type_and_encode\u001b[1;34m(data)\u001b[0m\n\u001b[0;32m    152\u001b[0m     non_null_idx, non_null_value \u001b[39m=\u001b[39m first_non_null_value(data)\n\u001b[0;32m    153\u001b[0m     \u001b[39mif\u001b[39;00m \u001b[39misinstance\u001b[39m(non_null_value, PIL\u001b[39m.\u001b[39mImage\u001b[39m.\u001b[39mImage):\n\u001b[1;32m--> 154\u001b[0m         \u001b[39mreturn\u001b[39;00m [Image()\u001b[39m.\u001b[39mencode_example(value) \u001b[39mif\u001b[39;00m value \u001b[39mis\u001b[39;00m \u001b[39mnot\u001b[39;00m \u001b[39mNone\u001b[39;00m \u001b[39melse\u001b[39;00m \u001b[39mNone\u001b[39;00m \u001b[39mfor\u001b[39;00m value \u001b[39min\u001b[39;00m data], Image()\n\u001b[0;32m    155\u001b[0m \u001b[39mreturn\u001b[39;00m data, \u001b[39mNone\u001b[39;00m\n",
      "File \u001b[1;32mc:\\Users\\JAVIDH S\\AppData\\Local\\Programs\\Python\\Python39\\lib\\site-packages\\datasets\\arrow_writer.py:154\u001b[0m, in \u001b[0;36m<listcomp>\u001b[1;34m(.0)\u001b[0m\n\u001b[0;32m    152\u001b[0m     non_null_idx, non_null_value \u001b[39m=\u001b[39m first_non_null_value(data)\n\u001b[0;32m    153\u001b[0m     \u001b[39mif\u001b[39;00m \u001b[39misinstance\u001b[39m(non_null_value, PIL\u001b[39m.\u001b[39mImage\u001b[39m.\u001b[39mImage):\n\u001b[1;32m--> 154\u001b[0m         \u001b[39mreturn\u001b[39;00m [Image()\u001b[39m.\u001b[39;49mencode_example(value) \u001b[39mif\u001b[39;00m value \u001b[39mis\u001b[39;00m \u001b[39mnot\u001b[39;00m \u001b[39mNone\u001b[39;00m \u001b[39melse\u001b[39;00m \u001b[39mNone\u001b[39;00m \u001b[39mfor\u001b[39;00m value \u001b[39min\u001b[39;00m data], Image()\n\u001b[0;32m    155\u001b[0m \u001b[39mreturn\u001b[39;00m data, \u001b[39mNone\u001b[39;00m\n",
      "File \u001b[1;32mc:\\Users\\JAVIDH S\\AppData\\Local\\Programs\\Python\\Python39\\lib\\site-packages\\datasets\\features\\image.py:116\u001b[0m, in \u001b[0;36mImage.encode_example\u001b[1;34m(self, value)\u001b[0m\n\u001b[0;32m    113\u001b[0m     \u001b[39mreturn\u001b[39;00m encode_np_array(value)\n\u001b[0;32m    114\u001b[0m \u001b[39melif\u001b[39;00m \u001b[39misinstance\u001b[39m(value, PIL\u001b[39m.\u001b[39mImage\u001b[39m.\u001b[39mImage):\n\u001b[0;32m    115\u001b[0m     \u001b[39m# convert the PIL image to bytes (default format is PNG/TIFF)\u001b[39;00m\n\u001b[1;32m--> 116\u001b[0m     \u001b[39mreturn\u001b[39;00m encode_pil_image(value)\n\u001b[0;32m    117\u001b[0m \u001b[39melif\u001b[39;00m value\u001b[39m.\u001b[39mget(\u001b[39m\"\u001b[39m\u001b[39mpath\u001b[39m\u001b[39m\"\u001b[39m) \u001b[39mis\u001b[39;00m \u001b[39mnot\u001b[39;00m \u001b[39mNone\u001b[39;00m \u001b[39mand\u001b[39;00m os\u001b[39m.\u001b[39mpath\u001b[39m.\u001b[39misfile(value[\u001b[39m\"\u001b[39m\u001b[39mpath\u001b[39m\u001b[39m\"\u001b[39m]):\n\u001b[0;32m    118\u001b[0m     \u001b[39m# we set \"bytes\": None to not duplicate the data if they're already available locally\u001b[39;00m\n\u001b[0;32m    119\u001b[0m     \u001b[39mreturn\u001b[39;00m {\u001b[39m\"\u001b[39m\u001b[39mbytes\u001b[39m\u001b[39m\"\u001b[39m: \u001b[39mNone\u001b[39;00m, \u001b[39m\"\u001b[39m\u001b[39mpath\u001b[39m\u001b[39m\"\u001b[39m: value\u001b[39m.\u001b[39mget(\u001b[39m\"\u001b[39m\u001b[39mpath\u001b[39m\u001b[39m\"\u001b[39m)}\n",
      "File \u001b[1;32mc:\\Users\\JAVIDH S\\AppData\\Local\\Programs\\Python\\Python39\\lib\\site-packages\\datasets\\features\\image.py:295\u001b[0m, in \u001b[0;36mencode_pil_image\u001b[1;34m(image)\u001b[0m\n\u001b[0;32m    293\u001b[0m     \u001b[39mreturn\u001b[39;00m {\u001b[39m\"\u001b[39m\u001b[39mpath\u001b[39m\u001b[39m\"\u001b[39m: image\u001b[39m.\u001b[39mfilename, \u001b[39m\"\u001b[39m\u001b[39mbytes\u001b[39m\u001b[39m\"\u001b[39m: \u001b[39mNone\u001b[39;00m}\n\u001b[0;32m    294\u001b[0m \u001b[39melse\u001b[39;00m:\n\u001b[1;32m--> 295\u001b[0m     \u001b[39mreturn\u001b[39;00m {\u001b[39m\"\u001b[39m\u001b[39mpath\u001b[39m\u001b[39m\"\u001b[39m: \u001b[39mNone\u001b[39;00m, \u001b[39m\"\u001b[39m\u001b[39mbytes\u001b[39m\u001b[39m\"\u001b[39m: image_to_bytes(image)}\n",
      "File \u001b[1;32mc:\\Users\\JAVIDH S\\AppData\\Local\\Programs\\Python\\Python39\\lib\\site-packages\\datasets\\features\\image.py:287\u001b[0m, in \u001b[0;36mimage_to_bytes\u001b[1;34m(image)\u001b[0m\n\u001b[0;32m    285\u001b[0m \u001b[39melse\u001b[39;00m:\n\u001b[0;32m    286\u001b[0m     \u001b[39mformat\u001b[39m \u001b[39m=\u001b[39m \u001b[39m\"\u001b[39m\u001b[39mPNG\u001b[39m\u001b[39m\"\u001b[39m \u001b[39mif\u001b[39;00m image\u001b[39m.\u001b[39mmode \u001b[39min\u001b[39;00m [\u001b[39m\"\u001b[39m\u001b[39m1\u001b[39m\u001b[39m\"\u001b[39m, \u001b[39m\"\u001b[39m\u001b[39mL\u001b[39m\u001b[39m\"\u001b[39m, \u001b[39m\"\u001b[39m\u001b[39mLA\u001b[39m\u001b[39m\"\u001b[39m, \u001b[39m\"\u001b[39m\u001b[39mRGB\u001b[39m\u001b[39m\"\u001b[39m, \u001b[39m\"\u001b[39m\u001b[39mRGBA\u001b[39m\u001b[39m\"\u001b[39m] \u001b[39melse\u001b[39;00m \u001b[39m\"\u001b[39m\u001b[39mTIFF\u001b[39m\u001b[39m\"\u001b[39m\n\u001b[1;32m--> 287\u001b[0m image\u001b[39m.\u001b[39;49msave(buffer, \u001b[39mformat\u001b[39;49m\u001b[39m=\u001b[39;49m\u001b[39mformat\u001b[39;49m)\n\u001b[0;32m    288\u001b[0m \u001b[39mreturn\u001b[39;00m buffer\u001b[39m.\u001b[39mgetvalue()\n",
      "File \u001b[1;32mc:\\Users\\JAVIDH S\\AppData\\Local\\Programs\\Python\\Python39\\lib\\site-packages\\PIL\\Image.py:2235\u001b[0m, in \u001b[0;36mImage.save\u001b[1;34m(self, fp, format, **params)\u001b[0m\n\u001b[0;32m   2232\u001b[0m         fp \u001b[39m=\u001b[39m builtins\u001b[39m.\u001b[39mopen(filename, \u001b[39m\"\u001b[39m\u001b[39mw+b\u001b[39m\u001b[39m\"\u001b[39m)\n\u001b[0;32m   2234\u001b[0m \u001b[39mtry\u001b[39;00m:\n\u001b[1;32m-> 2235\u001b[0m     save_handler(\u001b[39mself\u001b[39;49m, fp, filename)\n\u001b[0;32m   2236\u001b[0m \u001b[39mfinally\u001b[39;00m:\n\u001b[0;32m   2237\u001b[0m     \u001b[39m# do what we can to clean up\u001b[39;00m\n\u001b[0;32m   2238\u001b[0m     \u001b[39mif\u001b[39;00m open_fp:\n",
      "File \u001b[1;32mc:\\Users\\JAVIDH S\\AppData\\Local\\Programs\\Python\\Python39\\lib\\site-packages\\PIL\\PngImagePlugin.py:1349\u001b[0m, in \u001b[0;36m_save\u001b[1;34m(im, fp, filename, chunk, save_all)\u001b[0m\n\u001b[0;32m   1347\u001b[0m     _write_multiple_frames(im, fp, chunk, rawmode)\n\u001b[0;32m   1348\u001b[0m \u001b[39melse\u001b[39;00m:\n\u001b[1;32m-> 1349\u001b[0m     ImageFile\u001b[39m.\u001b[39;49m_save(im, _idat(fp, chunk), [(\u001b[39m\"\u001b[39;49m\u001b[39mzip\u001b[39;49m\u001b[39m\"\u001b[39;49m, (\u001b[39m0\u001b[39;49m, \u001b[39m0\u001b[39;49m) \u001b[39m+\u001b[39;49m im\u001b[39m.\u001b[39;49msize, \u001b[39m0\u001b[39;49m, rawmode)])\n\u001b[0;32m   1351\u001b[0m \u001b[39mif\u001b[39;00m info:\n\u001b[0;32m   1352\u001b[0m     \u001b[39mfor\u001b[39;00m info_chunk \u001b[39min\u001b[39;00m info\u001b[39m.\u001b[39mchunks:\n",
      "File \u001b[1;32mc:\\Users\\JAVIDH S\\AppData\\Local\\Programs\\Python\\Python39\\lib\\site-packages\\PIL\\ImageFile.py:518\u001b[0m, in \u001b[0;36m_save\u001b[1;34m(im, fp, tile, bufsize)\u001b[0m\n\u001b[0;32m    516\u001b[0m \u001b[39melse\u001b[39;00m:\n\u001b[0;32m    517\u001b[0m     \u001b[39mwhile\u001b[39;00m \u001b[39mTrue\u001b[39;00m:\n\u001b[1;32m--> 518\u001b[0m         l, s, d \u001b[39m=\u001b[39m e\u001b[39m.\u001b[39;49mencode(bufsize)\n\u001b[0;32m    519\u001b[0m         fp\u001b[39m.\u001b[39mwrite(d)\n\u001b[0;32m    520\u001b[0m         \u001b[39mif\u001b[39;00m s:\n",
      "\u001b[1;31mKeyboardInterrupt\u001b[0m: "
     ]
    }
   ],
   "source": [
    "Dataset.from_dict(train_dataset_dict)"
   ]
  },
  {
   "cell_type": "code",
   "execution_count": 16,
   "metadata": {},
   "outputs": [],
   "source": [
    "for idx in range(df_test_calc.shape[0]):\n",
    "    img_loc_list = get_image_loc(df_test_calc['image file path'][idx])\n",
    "    for img_loc in img_loc_list:\n",
    "        image_var = Image.open(img_loc)\n",
    "        image_var = image_var.resize((int(image_var.size[0] - image_var.size[0]*0.9), int(image_var.size[0] - image_var.size[0]*0.9)))\n",
    "        image_var = image_var.convert('RGB')\n",
    "        if idx%2 == 0:\n",
    "            test_dataset_dict['image_file_path'].append(img_loc)\n",
    "            test_dataset_dict['image'].append(image_var)\n",
    "            test_dataset_dict['labels'].append(df_test_calc['pathology'][idx])\n",
    "        else:\n",
    "            validate_dataset_dict['image_file_path'].append(img_loc)\n",
    "            validate_dataset_dict['image'].append(Image.open(img_loc))\n",
    "            validate_dataset_dict['labels'].append(df_test_calc['pathology'][idx])\n",
    "        del(image_var)\n",
    "        \n",
    "for idx in range(df_test_mass.shape[0]):\n",
    "    img_loc_list = get_image_loc(df_test_mass['image file path'][idx])\n",
    "    for img_loc in img_loc_list:\n",
    "        image_var = Image.open(img_loc)\n",
    "        image_var = image_var.resize((int(image_var.size[0] - image_var.size[0]*0.9), int(image_var.size[0] - image_var.size[0]*0.9)))\n",
    "        image_var = image_var.convert('RGB')\n",
    "        if idx%2 == 0:\n",
    "            test_dataset_dict['image_file_path'].append(img_loc)\n",
    "            test_dataset_dict['image'].append(image_var)\n",
    "            test_dataset_dict['labels'].append(df_test_mass['pathology'][idx])\n",
    "        else:\n",
    "            validate_dataset_dict['image_file_path'].append(img_loc)\n",
    "            validate_dataset_dict['image'].append(Image.open(img_loc))\n",
    "            validate_dataset_dict['labels'].append(df_test_mass['pathology'][idx])\n",
    "        del(image_var)"
   ]
  },
  {
   "cell_type": "code",
   "execution_count": 17,
   "metadata": {},
   "outputs": [
    {
     "data": {
      "text/plain": [
       "{'image_file_path': 'D:\\\\Dataset\\\\breast_cancer\\\\jpeg\\\\1.3.6.1.4.1.9590.100.1.2.127896422011431355705216667061075429849\\\\1-123.jpg',\n",
       " 'image': <PIL.JpegImagePlugin.JpegImageFile image mode=L size=4056x6032 at 0x14AB800FE80>,\n",
       " 'labels': 'MALIGNANT'}"
      ]
     },
     "execution_count": 17,
     "metadata": {},
     "output_type": "execute_result"
    }
   ],
   "source": [
    "Dataset.from_dict(test_dataset_dict)[41]"
   ]
  },
  {
   "cell_type": "code",
   "execution_count": 18,
   "metadata": {},
   "outputs": [
    {
     "data": {
      "text/plain": [
       "{'image_file_path': 'D:\\\\Dataset\\\\breast_cancer\\\\jpeg\\\\1.3.6.1.4.1.9590.100.1.2.41576445910017924501198330182143430811\\\\1-124.jpg',\n",
       " 'image': <PIL.JpegImagePlugin.JpegImageFile image mode=L size=4152x5864 at 0x14AB8019D90>,\n",
       " 'labels': 'MALIGNANT'}"
      ]
     },
     "execution_count": 18,
     "metadata": {},
     "output_type": "execute_result"
    }
   ],
   "source": [
    "Dataset.from_dict(validate_dataset_dict)[41]"
   ]
  },
  {
   "cell_type": "code",
   "execution_count": 17,
   "metadata": {},
   "outputs": [],
   "source": [
    "dataset = DatasetDict({\n",
    "    'train':Dataset.from_dict(train_dataset_dict),\n",
    "    'test':Dataset.from_dict(test_dataset_dict),\n",
    "    'validate':Dataset.from_dict(validate_dataset_dict)},\n",
    ")"
   ]
  },
  {
   "cell_type": "code",
   "execution_count": 23,
   "metadata": {},
   "outputs": [
    {
     "data": {
      "text/plain": [
       "array([[[ 75,  75,  75],\n",
       "        [ 43,  43,  43],\n",
       "        [ 36,  36,  36],\n",
       "        ...,\n",
       "        [  9,   9,   9],\n",
       "        [ 16,  16,  16],\n",
       "        [ 78,  78,  78]],\n",
       "\n",
       "       [[ 75,  75,  75],\n",
       "        [ 42,  42,  42],\n",
       "        [ 36,  36,  36],\n",
       "        ...,\n",
       "        [  9,   9,   9],\n",
       "        [ 12,  12,  12],\n",
       "        [ 58,  58,  58]],\n",
       "\n",
       "       [[ 76,  76,  76],\n",
       "        [ 43,  43,  43],\n",
       "        [ 36,  36,  36],\n",
       "        ...,\n",
       "        [  9,   9,   9],\n",
       "        [ 11,  11,  11],\n",
       "        [ 43,  43,  43]],\n",
       "\n",
       "       ...,\n",
       "\n",
       "       [[255, 255, 255],\n",
       "        [255, 255, 255],\n",
       "        [255, 255, 255],\n",
       "        ...,\n",
       "        [ 15,  15,  15],\n",
       "        [ 17,  17,  17],\n",
       "        [ 29,  29,  29]],\n",
       "\n",
       "       [[255, 255, 255],\n",
       "        [255, 255, 255],\n",
       "        [255, 255, 255],\n",
       "        ...,\n",
       "        [ 26,  26,  26],\n",
       "        [ 30,  30,  30],\n",
       "        [ 67,  67,  67]],\n",
       "\n",
       "       [[255, 255, 255],\n",
       "        [255, 255, 255],\n",
       "        [255, 255, 255],\n",
       "        ...,\n",
       "        [ 36,  36,  36],\n",
       "        [ 53,  53,  53],\n",
       "        [117, 117, 117]]], dtype=uint8)"
      ]
     },
     "execution_count": 23,
     "metadata": {},
     "output_type": "execute_result"
    }
   ],
   "source": [
    "np.array(dataset['test'][200]['image'])"
   ]
  },
  {
   "cell_type": "code",
   "execution_count": 24,
   "metadata": {},
   "outputs": [],
   "source": [
    "import pickle\n",
    "\n",
    "ds_file = open(\"dataset-3\", 'ab')\n",
    "\n",
    "pickle.dump(dataset, ds_file)\n",
    "ds_file.close()"
   ]
  },
  {
   "cell_type": "code",
   "execution_count": 32,
   "metadata": {},
   "outputs": [
    {
     "data": {
      "text/plain": [
       "['BENIGN_WITHOUT_CALLBACK', 'MALIGNANT', 'BENIGN']"
      ]
     },
     "execution_count": 32,
     "metadata": {},
     "output_type": "execute_result"
    }
   ],
   "source": [
    "list(set(df_test_mass['pathology']))"
   ]
  },
  {
   "cell_type": "code",
   "execution_count": null,
   "metadata": {},
   "outputs": [],
   "source": []
  }
 ],
 "metadata": {
  "kernelspec": {
   "display_name": "Python 3",
   "language": "python",
   "name": "python3"
  },
  "language_info": {
   "codemirror_mode": {
    "name": "ipython",
    "version": 3
   },
   "file_extension": ".py",
   "mimetype": "text/x-python",
   "name": "python",
   "nbconvert_exporter": "python",
   "pygments_lexer": "ipython3",
   "version": "3.9.6"
  }
 },
 "nbformat": 4,
 "nbformat_minor": 2
}
