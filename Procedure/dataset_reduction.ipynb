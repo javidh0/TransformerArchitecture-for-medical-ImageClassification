{
 "cells": [
  {
   "cell_type": "code",
   "execution_count": 1,
   "metadata": {},
   "outputs": [
    {
     "name": "stderr",
     "output_type": "stream",
     "text": [
      "c:\\Users\\JAVIDH S\\AppData\\Local\\Programs\\Python\\Python39\\lib\\site-packages\\numpy\\_distributor_init.py:30: UserWarning: loaded more than 1 DLL from .libs:\n",
      "c:\\Users\\JAVIDH S\\AppData\\Local\\Programs\\Python\\Python39\\lib\\site-packages\\numpy\\.libs\\libopenblas.EL2C6PLE4ZYW3ECEVIV3OXXGRN2NRFM2.gfortran-win_amd64.dll\n",
      "c:\\Users\\JAVIDH S\\AppData\\Local\\Programs\\Python\\Python39\\lib\\site-packages\\numpy\\.libs\\libopenblas.GK7GX5KEQ4F6UYO3P26ULGBQYHGQO7J4.gfortran-win_amd64.dll\n",
      "  warnings.warn(\"loaded more than 1 DLL from .libs:\"\n"
     ]
    }
   ],
   "source": [
    "import pandas as pd\n",
    "import pandas as pd \n",
    "import numpy as np\n",
    "import os\n",
    "from PIL import Image \n"
   ]
  },
  {
   "cell_type": "code",
   "execution_count": 2,
   "metadata": {},
   "outputs": [
    {
     "data": {
      "text/html": [
       "<div>\n",
       "<style scoped>\n",
       "    .dataframe tbody tr th:only-of-type {\n",
       "        vertical-align: middle;\n",
       "    }\n",
       "\n",
       "    .dataframe tbody tr th {\n",
       "        vertical-align: top;\n",
       "    }\n",
       "\n",
       "    .dataframe thead th {\n",
       "        text-align: right;\n",
       "    }\n",
       "</style>\n",
       "<table border=\"1\" class=\"dataframe\">\n",
       "  <thead>\n",
       "    <tr style=\"text-align: right;\">\n",
       "      <th></th>\n",
       "      <th>patient_id</th>\n",
       "      <th>breast density</th>\n",
       "      <th>left or right breast</th>\n",
       "      <th>image view</th>\n",
       "      <th>abnormality id</th>\n",
       "      <th>abnormality type</th>\n",
       "      <th>calc type</th>\n",
       "      <th>calc distribution</th>\n",
       "      <th>assessment</th>\n",
       "      <th>pathology</th>\n",
       "      <th>subtlety</th>\n",
       "      <th>image file path</th>\n",
       "      <th>cropped image file path</th>\n",
       "      <th>ROI mask file path</th>\n",
       "    </tr>\n",
       "  </thead>\n",
       "  <tbody>\n",
       "    <tr>\n",
       "      <th>0</th>\n",
       "      <td>P_00038</td>\n",
       "      <td>2</td>\n",
       "      <td>LEFT</td>\n",
       "      <td>CC</td>\n",
       "      <td>1</td>\n",
       "      <td>calcification</td>\n",
       "      <td>PUNCTATE-PLEOMORPHIC</td>\n",
       "      <td>CLUSTERED</td>\n",
       "      <td>4</td>\n",
       "      <td>BENIGN</td>\n",
       "      <td>2</td>\n",
       "      <td>Calc-Test_P_00038_LEFT_CC/1.3.6.1.4.1.9590.100...</td>\n",
       "      <td>Calc-Test_P_00038_LEFT_CC_1/1.3.6.1.4.1.9590.1...</td>\n",
       "      <td>Calc-Test_P_00038_LEFT_CC_1/1.3.6.1.4.1.9590.1...</td>\n",
       "    </tr>\n",
       "    <tr>\n",
       "      <th>1</th>\n",
       "      <td>P_00038</td>\n",
       "      <td>2</td>\n",
       "      <td>LEFT</td>\n",
       "      <td>MLO</td>\n",
       "      <td>1</td>\n",
       "      <td>calcification</td>\n",
       "      <td>PUNCTATE-PLEOMORPHIC</td>\n",
       "      <td>CLUSTERED</td>\n",
       "      <td>4</td>\n",
       "      <td>BENIGN</td>\n",
       "      <td>2</td>\n",
       "      <td>Calc-Test_P_00038_LEFT_MLO/1.3.6.1.4.1.9590.10...</td>\n",
       "      <td>Calc-Test_P_00038_LEFT_MLO_1/1.3.6.1.4.1.9590....</td>\n",
       "      <td>Calc-Test_P_00038_LEFT_MLO_1/1.3.6.1.4.1.9590....</td>\n",
       "    </tr>\n",
       "    <tr>\n",
       "      <th>2</th>\n",
       "      <td>P_00038</td>\n",
       "      <td>2</td>\n",
       "      <td>RIGHT</td>\n",
       "      <td>CC</td>\n",
       "      <td>1</td>\n",
       "      <td>calcification</td>\n",
       "      <td>VASCULAR</td>\n",
       "      <td>NaN</td>\n",
       "      <td>2</td>\n",
       "      <td>BENIGN_WITHOUT_CALLBACK</td>\n",
       "      <td>5</td>\n",
       "      <td>Calc-Test_P_00038_RIGHT_CC/1.3.6.1.4.1.9590.10...</td>\n",
       "      <td>Calc-Test_P_00038_RIGHT_CC_1/1.3.6.1.4.1.9590....</td>\n",
       "      <td>Calc-Test_P_00038_RIGHT_CC_1/1.3.6.1.4.1.9590....</td>\n",
       "    </tr>\n",
       "    <tr>\n",
       "      <th>3</th>\n",
       "      <td>P_00038</td>\n",
       "      <td>2</td>\n",
       "      <td>RIGHT</td>\n",
       "      <td>CC</td>\n",
       "      <td>2</td>\n",
       "      <td>calcification</td>\n",
       "      <td>VASCULAR</td>\n",
       "      <td>NaN</td>\n",
       "      <td>2</td>\n",
       "      <td>BENIGN_WITHOUT_CALLBACK</td>\n",
       "      <td>5</td>\n",
       "      <td>Calc-Test_P_00038_RIGHT_CC/1.3.6.1.4.1.9590.10...</td>\n",
       "      <td>Calc-Test_P_00038_RIGHT_CC_2/1.3.6.1.4.1.9590....</td>\n",
       "      <td>Calc-Test_P_00038_RIGHT_CC_2/1.3.6.1.4.1.9590....</td>\n",
       "    </tr>\n",
       "    <tr>\n",
       "      <th>4</th>\n",
       "      <td>P_00038</td>\n",
       "      <td>2</td>\n",
       "      <td>RIGHT</td>\n",
       "      <td>MLO</td>\n",
       "      <td>1</td>\n",
       "      <td>calcification</td>\n",
       "      <td>VASCULAR</td>\n",
       "      <td>NaN</td>\n",
       "      <td>2</td>\n",
       "      <td>BENIGN_WITHOUT_CALLBACK</td>\n",
       "      <td>5</td>\n",
       "      <td>Calc-Test_P_00038_RIGHT_MLO/1.3.6.1.4.1.9590.1...</td>\n",
       "      <td>Calc-Test_P_00038_RIGHT_MLO_1/1.3.6.1.4.1.9590...</td>\n",
       "      <td>Calc-Test_P_00038_RIGHT_MLO_1/1.3.6.1.4.1.9590...</td>\n",
       "    </tr>\n",
       "  </tbody>\n",
       "</table>\n",
       "</div>"
      ],
      "text/plain": [
       "  patient_id  breast density left or right breast image view  abnormality id  \\\n",
       "0    P_00038               2                 LEFT         CC               1   \n",
       "1    P_00038               2                 LEFT        MLO               1   \n",
       "2    P_00038               2                RIGHT         CC               1   \n",
       "3    P_00038               2                RIGHT         CC               2   \n",
       "4    P_00038               2                RIGHT        MLO               1   \n",
       "\n",
       "  abnormality type             calc type calc distribution  assessment  \\\n",
       "0    calcification  PUNCTATE-PLEOMORPHIC         CLUSTERED           4   \n",
       "1    calcification  PUNCTATE-PLEOMORPHIC         CLUSTERED           4   \n",
       "2    calcification              VASCULAR               NaN           2   \n",
       "3    calcification              VASCULAR               NaN           2   \n",
       "4    calcification              VASCULAR               NaN           2   \n",
       "\n",
       "                 pathology  subtlety  \\\n",
       "0                   BENIGN         2   \n",
       "1                   BENIGN         2   \n",
       "2  BENIGN_WITHOUT_CALLBACK         5   \n",
       "3  BENIGN_WITHOUT_CALLBACK         5   \n",
       "4  BENIGN_WITHOUT_CALLBACK         5   \n",
       "\n",
       "                                     image file path  \\\n",
       "0  Calc-Test_P_00038_LEFT_CC/1.3.6.1.4.1.9590.100...   \n",
       "1  Calc-Test_P_00038_LEFT_MLO/1.3.6.1.4.1.9590.10...   \n",
       "2  Calc-Test_P_00038_RIGHT_CC/1.3.6.1.4.1.9590.10...   \n",
       "3  Calc-Test_P_00038_RIGHT_CC/1.3.6.1.4.1.9590.10...   \n",
       "4  Calc-Test_P_00038_RIGHT_MLO/1.3.6.1.4.1.9590.1...   \n",
       "\n",
       "                             cropped image file path  \\\n",
       "0  Calc-Test_P_00038_LEFT_CC_1/1.3.6.1.4.1.9590.1...   \n",
       "1  Calc-Test_P_00038_LEFT_MLO_1/1.3.6.1.4.1.9590....   \n",
       "2  Calc-Test_P_00038_RIGHT_CC_1/1.3.6.1.4.1.9590....   \n",
       "3  Calc-Test_P_00038_RIGHT_CC_2/1.3.6.1.4.1.9590....   \n",
       "4  Calc-Test_P_00038_RIGHT_MLO_1/1.3.6.1.4.1.9590...   \n",
       "\n",
       "                                  ROI mask file path  \n",
       "0  Calc-Test_P_00038_LEFT_CC_1/1.3.6.1.4.1.9590.1...  \n",
       "1  Calc-Test_P_00038_LEFT_MLO_1/1.3.6.1.4.1.9590....  \n",
       "2  Calc-Test_P_00038_RIGHT_CC_1/1.3.6.1.4.1.9590....  \n",
       "3  Calc-Test_P_00038_RIGHT_CC_2/1.3.6.1.4.1.9590....  \n",
       "4  Calc-Test_P_00038_RIGHT_MLO_1/1.3.6.1.4.1.9590...  "
      ]
     },
     "execution_count": 2,
     "metadata": {},
     "output_type": "execute_result"
    }
   ],
   "source": [
    "dataset_root = \"D:\\Dataset\\\\breast_cancer\\\\\"\n",
    "desti_root = \"D:\\Dataset\\\\breast_cancer_reduced\\\\\"\n",
    "# desti_root = \"\"\n",
    "\n",
    "df_train_calc = pd.read_csv(dataset_root+\"csv\\calc_case_description_train_set.csv\")\n",
    "df_test_calc = pd.read_csv(dataset_root+\"csv\\calc_case_description_test_set.csv\")\n",
    "\n",
    "df_train_mass = pd.read_csv(dataset_root+\"csv\\mass_case_description_train_set.csv\")\n",
    "df_test_mass = pd.read_csv(dataset_root+\"csv\\mass_case_description_test_set.csv\")\n",
    "\n",
    "df_test_calc.head()"
   ]
  },
  {
   "cell_type": "code",
   "execution_count": 3,
   "metadata": {},
   "outputs": [],
   "source": [
    "def get_image_loc(path) -> list:\n",
    "    img_list = []\n",
    "    for img in os.listdir(dataset_root +'jpeg\\\\'+ path.split('/')[2]):\n",
    "        img_list.append(dataset_root +'jpeg\\\\'+ path.split('/')[2]+'\\\\'+img)\n",
    "    return img_list"
   ]
  },
  {
   "cell_type": "code",
   "execution_count": 4,
   "metadata": {},
   "outputs": [
    {
     "name": "stdout",
     "output_type": "stream",
     "text": [
      "['D:\\\\Dataset\\\\breast_cancer\\\\jpeg\\\\1.3.6.1.4.1.9590.100.1.2.99456166312612236819044550452017912928\\\\1-282.jpg']\n"
     ]
    }
   ],
   "source": [
    "print(get_image_loc(df_train_calc['image file path'][120]))"
   ]
  },
  {
   "cell_type": "code",
   "execution_count": 5,
   "metadata": {},
   "outputs": [],
   "source": [
    "df_reduced_list = [[], []]\n",
    "df_reduced_list\n",
    "\n",
    "img_folder_desi = desti_root+'jpeg\\\\'\n",
    "\n",
    "img_counter = [0]"
   ]
  },
  {
   "cell_type": "code",
   "execution_count": 6,
   "metadata": {},
   "outputs": [],
   "source": [
    "def reducer(df, img_counter):\n",
    "    for idx in range(df.shape[0]):\n",
    "        for img_loc in get_image_loc(df['image file path'][idx]):\n",
    "            o_img = Image.open(img_loc)\n",
    "            r_img = o_img.resize((int(o_img.size[0] - o_img.size[0]*0.9), int(o_img.size[0] - o_img.size[0]*0.9)))\n",
    "            r_img.save(img_folder_desi + str(img_counter[0])+'.jpeg')\n",
    "            df_reduced_list[0].append(img_folder_desi + str(img_counter[0])+'.jpeg')\n",
    "            df_reduced_list[1].append(df['pathology'][idx])\n",
    "            img_counter[0] += 1"
   ]
  },
  {
   "cell_type": "code",
   "execution_count": 7,
   "metadata": {},
   "outputs": [],
   "source": [
    "reducer(df_train_calc, img_counter)"
   ]
  },
  {
   "cell_type": "code",
   "execution_count": 8,
   "metadata": {},
   "outputs": [
    {
     "name": "stdout",
     "output_type": "stream",
     "text": [
      "1\n",
      "2\n",
      "3\n"
     ]
    }
   ],
   "source": [
    "reducer(df_test_calc, img_counter)\n",
    "print(1)\n",
    "reducer(df_train_mass, img_counter)\n",
    "print(2)\n",
    "reducer(df_test_mass, img_counter)\n",
    "print(3)\n"
   ]
  },
  {
   "cell_type": "code",
   "execution_count": 16,
   "metadata": {},
   "outputs": [
    {
     "data": {
      "text/plain": [
       "('D:\\\\Dataset\\\\breast_cancer_reduced\\\\jpeg\\\\0.jpeg', 'MALIGNANT')"
      ]
     },
     "execution_count": 16,
     "metadata": {},
     "output_type": "execute_result"
    }
   ],
   "source": [
    "df_reduced_list[0][0], df_reduced_list[1][0] "
   ]
  },
  {
   "cell_type": "code",
   "execution_count": 30,
   "metadata": {},
   "outputs": [],
   "source": [
    "df_reduced_1 = []\n",
    "\n",
    "for idx in range(len(df_reduced_list[0])):\n",
    "    df_reduced_1.append([\n",
    "        df_reduced_list[0][idx], df_reduced_list[1][idx] \n",
    "    ])\n",
    "\n",
    "df_data = pd.DataFrame(df_reduced_1, columns = ['image file path', 'pathology'])"
   ]
  },
  {
   "cell_type": "code",
   "execution_count": 31,
   "metadata": {},
   "outputs": [
    {
     "data": {
      "text/html": [
       "<div>\n",
       "<style scoped>\n",
       "    .dataframe tbody tr th:only-of-type {\n",
       "        vertical-align: middle;\n",
       "    }\n",
       "\n",
       "    .dataframe tbody tr th {\n",
       "        vertical-align: top;\n",
       "    }\n",
       "\n",
       "    .dataframe thead th {\n",
       "        text-align: right;\n",
       "    }\n",
       "</style>\n",
       "<table border=\"1\" class=\"dataframe\">\n",
       "  <thead>\n",
       "    <tr style=\"text-align: right;\">\n",
       "      <th></th>\n",
       "      <th>image file path</th>\n",
       "      <th>pathology</th>\n",
       "    </tr>\n",
       "  </thead>\n",
       "  <tbody>\n",
       "    <tr>\n",
       "      <th>0</th>\n",
       "      <td>D:\\Dataset\\breast_cancer_reduced\\jpeg\\0.jpeg</td>\n",
       "      <td>MALIGNANT</td>\n",
       "    </tr>\n",
       "    <tr>\n",
       "      <th>1</th>\n",
       "      <td>D:\\Dataset\\breast_cancer_reduced\\jpeg\\1.jpeg</td>\n",
       "      <td>MALIGNANT</td>\n",
       "    </tr>\n",
       "    <tr>\n",
       "      <th>2</th>\n",
       "      <td>D:\\Dataset\\breast_cancer_reduced\\jpeg\\2.jpeg</td>\n",
       "      <td>BENIGN</td>\n",
       "    </tr>\n",
       "    <tr>\n",
       "      <th>3</th>\n",
       "      <td>D:\\Dataset\\breast_cancer_reduced\\jpeg\\3.jpeg</td>\n",
       "      <td>BENIGN</td>\n",
       "    </tr>\n",
       "    <tr>\n",
       "      <th>4</th>\n",
       "      <td>D:\\Dataset\\breast_cancer_reduced\\jpeg\\4.jpeg</td>\n",
       "      <td>BENIGN_WITHOUT_CALLBACK</td>\n",
       "    </tr>\n",
       "    <tr>\n",
       "      <th>...</th>\n",
       "      <td>...</td>\n",
       "      <td>...</td>\n",
       "    </tr>\n",
       "    <tr>\n",
       "      <th>3563</th>\n",
       "      <td>D:\\Dataset\\breast_cancer_reduced\\jpeg\\3563.jpeg</td>\n",
       "      <td>BENIGN_WITHOUT_CALLBACK</td>\n",
       "    </tr>\n",
       "    <tr>\n",
       "      <th>3564</th>\n",
       "      <td>D:\\Dataset\\breast_cancer_reduced\\jpeg\\3564.jpeg</td>\n",
       "      <td>MALIGNANT</td>\n",
       "    </tr>\n",
       "    <tr>\n",
       "      <th>3565</th>\n",
       "      <td>D:\\Dataset\\breast_cancer_reduced\\jpeg\\3565.jpeg</td>\n",
       "      <td>MALIGNANT</td>\n",
       "    </tr>\n",
       "    <tr>\n",
       "      <th>3566</th>\n",
       "      <td>D:\\Dataset\\breast_cancer_reduced\\jpeg\\3566.jpeg</td>\n",
       "      <td>MALIGNANT</td>\n",
       "    </tr>\n",
       "    <tr>\n",
       "      <th>3567</th>\n",
       "      <td>D:\\Dataset\\breast_cancer_reduced\\jpeg\\3567.jpeg</td>\n",
       "      <td>MALIGNANT</td>\n",
       "    </tr>\n",
       "  </tbody>\n",
       "</table>\n",
       "<p>3568 rows × 2 columns</p>\n",
       "</div>"
      ],
      "text/plain": [
       "                                      image file path                pathology\n",
       "0        D:\\Dataset\\breast_cancer_reduced\\jpeg\\0.jpeg                MALIGNANT\n",
       "1        D:\\Dataset\\breast_cancer_reduced\\jpeg\\1.jpeg                MALIGNANT\n",
       "2        D:\\Dataset\\breast_cancer_reduced\\jpeg\\2.jpeg                   BENIGN\n",
       "3        D:\\Dataset\\breast_cancer_reduced\\jpeg\\3.jpeg                   BENIGN\n",
       "4        D:\\Dataset\\breast_cancer_reduced\\jpeg\\4.jpeg  BENIGN_WITHOUT_CALLBACK\n",
       "...                                               ...                      ...\n",
       "3563  D:\\Dataset\\breast_cancer_reduced\\jpeg\\3563.jpeg  BENIGN_WITHOUT_CALLBACK\n",
       "3564  D:\\Dataset\\breast_cancer_reduced\\jpeg\\3564.jpeg                MALIGNANT\n",
       "3565  D:\\Dataset\\breast_cancer_reduced\\jpeg\\3565.jpeg                MALIGNANT\n",
       "3566  D:\\Dataset\\breast_cancer_reduced\\jpeg\\3566.jpeg                MALIGNANT\n",
       "3567  D:\\Dataset\\breast_cancer_reduced\\jpeg\\3567.jpeg                MALIGNANT\n",
       "\n",
       "[3568 rows x 2 columns]"
      ]
     },
     "execution_count": 31,
     "metadata": {},
     "output_type": "execute_result"
    }
   ],
   "source": [
    "df_data"
   ]
  },
  {
   "cell_type": "code",
   "execution_count": 34,
   "metadata": {},
   "outputs": [],
   "source": [
    "df_data.to_csv('dataset_df.csv', index = False)"
   ]
  },
  {
   "cell_type": "code",
   "execution_count": null,
   "metadata": {},
   "outputs": [],
   "source": []
  }
 ],
 "metadata": {
  "kernelspec": {
   "display_name": "Python 3",
   "language": "python",
   "name": "python3"
  },
  "language_info": {
   "codemirror_mode": {
    "name": "ipython",
    "version": 3
   },
   "file_extension": ".py",
   "mimetype": "text/x-python",
   "name": "python",
   "nbconvert_exporter": "python",
   "pygments_lexer": "ipython3",
   "version": "3.9.6"
  }
 },
 "nbformat": 4,
 "nbformat_minor": 2
}
